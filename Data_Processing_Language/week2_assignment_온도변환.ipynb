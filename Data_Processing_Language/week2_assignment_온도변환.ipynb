{
 "cells": [
  {
   "cell_type": "markdown",
   "id": "imported-mining",
   "metadata": {},
   "source": [
    "### 데이터처리언어 21510032 전병민 2주차 과제"
   ]
  },
  {
   "cell_type": "code",
   "execution_count": 11,
   "id": "buried-brunswick",
   "metadata": {},
   "outputs": [
    {
     "name": "stdout",
     "output_type": "stream",
     "text": [
      "본 프로그램은 섭씨온도를 화씨온도로 변환하는 프로그램입니다.\n",
      "변환하고 싶은 섭씨온도를 입력하세요.\n",
      "32.2\n",
      "섭씨온도: 32.2\n",
      "화씨온도: 89.96\n"
     ]
    }
   ],
   "source": [
    "print(\"본 프로그램은 섭씨온도를 화씨온도로 변환하는 프로그램입니다.\") #첫번째 문구 출력\n",
    "temperature=float(input(\"변환하고 싶은 섭씨온도를 입력하세요.\\n\")) #섭씨온도 입력문구 출력 및 입력\n",
    "new_temp=round((temperature)*1.8+32 ,2)  #화씨온도 변환공식. 화씨온도는 편의를 위해 소수점 2자리까지 표시\n",
    "print('섭씨온도:' , temperature) #섭씨온도 출력\n",
    "print('화씨온도:' , new_temp)  #변환된 화씨온도 출력"
   ]
  }
 ],
 "metadata": {
  "kernelspec": {
   "display_name": "Python 3",
   "language": "python",
   "name": "python3"
  },
  "language_info": {
   "codemirror_mode": {
    "name": "ipython",
    "version": 3
   },
   "file_extension": ".py",
   "mimetype": "text/x-python",
   "name": "python",
   "nbconvert_exporter": "python",
   "pygments_lexer": "ipython3",
   "version": "3.7.10"
  }
 },
 "nbformat": 4,
 "nbformat_minor": 5
}
