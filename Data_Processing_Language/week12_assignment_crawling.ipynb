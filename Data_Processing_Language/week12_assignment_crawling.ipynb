{
 "cells": [
  {
   "cell_type": "code",
   "execution_count": 1,
   "id": "round-concert",
   "metadata": {},
   "outputs": [],
   "source": [
    "import time\n",
    "import pandas as pd\n",
    "from selenium import webdriver\n",
    "from selenium.webdriver.common.keys import Keys"
   ]
  },
  {
   "cell_type": "code",
   "execution_count": 2,
   "id": "distinguished-graduate",
   "metadata": {},
   "outputs": [],
   "source": [
    "driver = webdriver.Chrome(r'C:\\Users\\BM\\Downloads\\chromedriver.exe') \n",
    "driver.implicitly_wait(5)"
   ]
  },
  {
   "cell_type": "code",
   "execution_count": 3,
   "id": "requested-restriction",
   "metadata": {},
   "outputs": [
    {
     "name": "stdout",
     "output_type": "stream",
     "text": [
      "검색어를 입력하세요 : technical forecasting\n"
     ]
    }
   ],
   "source": [
    "search_keyword = input(\"검색어를 입력하세요 : \")"
   ]
  },
  {
   "cell_type": "code",
   "execution_count": 4,
   "id": "naval-profit",
   "metadata": {},
   "outputs": [],
   "source": [
    "driver.get('https://arxiv.org/')\n",
    "\n",
    "search = driver.find_element_by_xpath('//*[@id=\"header\"]/div[2]/form/div/div[1]/input')\n",
    "search.clear()\n",
    "search.send_keys(search_keyword)\n",
    "time.sleep(1)\n",
    "search.send_keys(Keys.ENTER)"
   ]
  },
  {
   "cell_type": "code",
   "execution_count": 5,
   "id": "selective-associate",
   "metadata": {},
   "outputs": [],
   "source": [
    "driver.find_element_by_xpath('//*[@id=\"size\"]').click() #몇개씩?\n",
    "time.sleep(2)\n",
    "driver.find_element_by_xpath('//*[@id=\"size\"]/option[4]').click() #200개씩\n",
    "time.sleep(2)\n",
    "driver.find_element_by_xpath('//*[@id=\"main-container\"]/div[2]/div[1]/div/form/div[2]/div[3]/button').click() #go!"
   ]
  },
  {
   "cell_type": "code",
   "execution_count": 6,
   "id": "rubber-cleveland",
   "metadata": {},
   "outputs": [
    {
     "data": {
      "text/plain": [
       "'Showing 1–109 of 109 results for all: technical forecasting'"
      ]
     },
     "execution_count": 6,
     "metadata": {},
     "output_type": "execute_result"
    }
   ],
   "source": [
    "import re\n",
    "full_text=driver.find_element_by_xpath('//*[@id=\"main-container\"]/div[1]/div[1]/h1').text \n",
    "full_text #해당 검색어로 몇개의 결과가 나왔다 이런형태로 나옴"
   ]
  },
  {
   "cell_type": "code",
   "execution_count": 7,
   "id": "seventh-poster",
   "metadata": {},
   "outputs": [],
   "source": [
    "num_paper=re.findall(\"\\d+\",full_text)[2] #숫자만 추출해서 ex) 1, 109 ,109. 맨 마지막 숫자만 추출"
   ]
  },
  {
   "cell_type": "code",
   "execution_count": 10,
   "id": "physical-slovak",
   "metadata": {},
   "outputs": [
    {
     "data": {
      "text/plain": [
       "'Using Twitter Attribute Information to Predict Stock Prices'"
      ]
     },
     "execution_count": 10,
     "metadata": {},
     "output_type": "execute_result"
    }
   ],
   "source": [
    "driver.find_element_by_css_selector('#main-container > div.content > ol > li:nth-child(1) > p.title.is-5.mathjax').text\n"
   ]
  },
  {
   "cell_type": "code",
   "execution_count": 11,
   "id": "brazilian-chick",
   "metadata": {},
   "outputs": [
    {
     "data": {
      "text/plain": [
       "'Authors: Roderick Karlemstrand, Ebba Leckström'"
      ]
     },
     "execution_count": 11,
     "metadata": {},
     "output_type": "execute_result"
    }
   ],
   "source": [
    "driver.find_element_by_css_selector('#main-container > div.content > ol > li:nth-child(1) > p.authors').text"
   ]
  },
  {
   "cell_type": "code",
   "execution_count": null,
   "id": "sharp-constitution",
   "metadata": {},
   "outputs": [],
   "source": [
    "#main-container > div.content > ol > li:nth-child(1) > p.is-size-7"
   ]
  },
  {
   "cell_type": "code",
   "execution_count": null,
   "id": "hazardous-queens",
   "metadata": {},
   "outputs": [],
   "source": [
    "#main-container > div.content > ol > li:nth-child(34) > p.title.is-5.mathjax\n",
    "#main-container > div.content > ol > li:nth-child(35) > p.title.is-5.mathjax\n",
    "#main-container > div.content > ol > li:nth-child(34) > p.authors > a:nth-child(10)"
   ]
  },
  {
   "cell_type": "code",
   "execution_count": null,
   "id": "rural-cleaners",
   "metadata": {},
   "outputs": [],
   "source": [
    "#main-container > div.content > ol > li:nth-child(36) > p.authors"
   ]
  },
  {
   "cell_type": "code",
   "execution_count": 12,
   "id": "particular-rebecca",
   "metadata": {},
   "outputs": [
    {
     "data": {
      "text/plain": [
       "'Submitted 4 May, 2021; originally announced May 2021.'"
      ]
     },
     "execution_count": 12,
     "metadata": {},
     "output_type": "execute_result"
    }
   ],
   "source": [
    "driver.find_element_by_css_selector('#main-container > div.content > ol > li:nth-child(1) > p.is-size-7').text"
   ]
  },
  {
   "cell_type": "code",
   "execution_count": 16,
   "id": "cosmetic-motion",
   "metadata": {},
   "outputs": [
    {
     "data": {
      "text/plain": [
       "'Hyperparameter Optimization for Forecasting Stock Returns'"
      ]
     },
     "execution_count": 16,
     "metadata": {},
     "output_type": "execute_result"
    }
   ],
   "source": [
    "driver.find_element_by_css_selector('#main-container > div.content > ol > li:nth-child(35) > p.title.is-5.mathjax').text"
   ]
  },
  {
   "cell_type": "code",
   "execution_count": 30,
   "id": "continental-treaty",
   "metadata": {},
   "outputs": [
    {
     "data": {
      "application/vnd.jupyter.widget-view+json": {
       "model_id": "3e03e9c5c59e4f42acb97c9e81989f3b",
       "version_major": 2,
       "version_minor": 0
      },
      "text/plain": [
       "  0%|          | 0/109 [00:00<?, ?it/s]"
      ]
     },
     "metadata": {},
     "output_type": "display_data"
    }
   ],
   "source": [
    "from tqdm.notebook import tqdm\n",
    "titles=[]\n",
    "authors=[]\n",
    "submit_dates=[]\n",
    "for i in tqdm(range(1,int(num_paper)+1)): #li[] 구조가 1부터 시작해서 범위 변경\n",
    "    #titles 크롤링\n",
    "    title=driver.find_element_by_css_selector('#main-container > div.content > ol > li:nth-child('+str(i)+') > p.title.is-5.mathjax').text\n",
    "    titles.append(title)\n",
    "    \n",
    "    #authors 크롤링\n",
    "    author=driver.find_element_by_css_selector('#main-container > div.content > ol > li:nth-child('+str(i)+') > p.authors').text.replace('Authors: ','')\n",
    "    #Authors: Roderick Karlemstrand, Ebba Leckström 형태로 나와서 Authors 부분 제거\n",
    "    authors.append(author)\n",
    "    \n",
    "    #submit_dates 크롤링\n",
    "    submit_date=driver.find_element_by_css_selector('#main-container > div.content > ol > li:nth-child('+str(i)+') > p.is-size-7').text\n",
    "    submit_date2=submit_date[:submit_date.find(';')]\n",
    "    submit_dates.append(submit_date2.replace('Submitted ',''))\n"
   ]
  },
  {
   "cell_type": "code",
   "execution_count": 31,
   "id": "detailed-accessory",
   "metadata": {},
   "outputs": [
    {
     "data": {
      "text/html": [
       "<div>\n",
       "<style scoped>\n",
       "    .dataframe tbody tr th:only-of-type {\n",
       "        vertical-align: middle;\n",
       "    }\n",
       "\n",
       "    .dataframe tbody tr th {\n",
       "        vertical-align: top;\n",
       "    }\n",
       "\n",
       "    .dataframe thead th {\n",
       "        text-align: right;\n",
       "    }\n",
       "</style>\n",
       "<table border=\"1\" class=\"dataframe\">\n",
       "  <thead>\n",
       "    <tr style=\"text-align: right;\">\n",
       "      <th></th>\n",
       "      <th>Title</th>\n",
       "      <th>Author</th>\n",
       "      <th>Submitted Date</th>\n",
       "    </tr>\n",
       "  </thead>\n",
       "  <tbody>\n",
       "    <tr>\n",
       "      <th>0</th>\n",
       "      <td>Using Twitter Attribute Information to Predict...</td>\n",
       "      <td>Roderick Karlemstrand, Ebba Leckström</td>\n",
       "      <td>4 May, 2021</td>\n",
       "    </tr>\n",
       "    <tr>\n",
       "      <th>1</th>\n",
       "      <td>Peculiarities of organization of data storage ...</td>\n",
       "      <td>V. K. Ivanov</td>\n",
       "      <td>27 March, 2021</td>\n",
       "    </tr>\n",
       "    <tr>\n",
       "      <th>2</th>\n",
       "      <td>Efficient Deep Learning Pipelines for Accurate...</td>\n",
       "      <td>Johan Kok Zhi Kang, Gaurav, Sien Yi Tan, Feng ...</td>\n",
       "      <td>23 March, 2021</td>\n",
       "    </tr>\n",
       "    <tr>\n",
       "      <th>3</th>\n",
       "      <td>AutoAI-TS: AutoAI for Time Series Forecasting</td>\n",
       "      <td>Syed Yousaf Shah, Dhaval Patel, Long Vu, Xuan-...</td>\n",
       "      <td>8 March, 2021</td>\n",
       "    </tr>\n",
       "    <tr>\n",
       "      <th>4</th>\n",
       "      <td>Wavelet Denoised-ResNet CNN and LightGBM Metho...</td>\n",
       "      <td>Yiqi Zhao, Matloob Khushi</td>\n",
       "      <td>29 January, 2021</td>\n",
       "    </tr>\n",
       "    <tr>\n",
       "      <th>...</th>\n",
       "      <td>...</td>\n",
       "      <td>...</td>\n",
       "      <td>...</td>\n",
       "    </tr>\n",
       "    <tr>\n",
       "      <th>104</th>\n",
       "      <td>Adaptive Investment Strategies For Periodic En...</td>\n",
       "      <td>J. -Emeterio Navarro</td>\n",
       "      <td>28 November, 2007</td>\n",
       "    </tr>\n",
       "    <tr>\n",
       "      <th>105</th>\n",
       "      <td>Microeconomic co-evolution model for financial...</td>\n",
       "      <td>G. Rotundo, M. Ausloos</td>\n",
       "      <td>20 May, 2006</td>\n",
       "    </tr>\n",
       "    <tr>\n",
       "      <th>106</th>\n",
       "      <td>Tomography of the Reionization Epoch with Mult...</td>\n",
       "      <td>Carlos Hernandez-Monteagudo, Licia Verde, Raul...</td>\n",
       "      <td>14 April, 2006</td>\n",
       "    </tr>\n",
       "    <tr>\n",
       "      <th>107</th>\n",
       "      <td>Order selection for same-realization predictio...</td>\n",
       "      <td>Ching-Kang Ing, Ching-Zong Wei</td>\n",
       "      <td>15 February, 2006</td>\n",
       "    </tr>\n",
       "    <tr>\n",
       "      <th>108</th>\n",
       "      <td>Using Recurrent Neural Networks To Forecasting...</td>\n",
       "      <td>V. V. Kondratenko, Yu. A Kuperin</td>\n",
       "      <td>21 April, 2003</td>\n",
       "    </tr>\n",
       "  </tbody>\n",
       "</table>\n",
       "<p>109 rows × 3 columns</p>\n",
       "</div>"
      ],
      "text/plain": [
       "                                                 Title  \\\n",
       "0    Using Twitter Attribute Information to Predict...   \n",
       "1    Peculiarities of organization of data storage ...   \n",
       "2    Efficient Deep Learning Pipelines for Accurate...   \n",
       "3        AutoAI-TS: AutoAI for Time Series Forecasting   \n",
       "4    Wavelet Denoised-ResNet CNN and LightGBM Metho...   \n",
       "..                                                 ...   \n",
       "104  Adaptive Investment Strategies For Periodic En...   \n",
       "105  Microeconomic co-evolution model for financial...   \n",
       "106  Tomography of the Reionization Epoch with Mult...   \n",
       "107  Order selection for same-realization predictio...   \n",
       "108  Using Recurrent Neural Networks To Forecasting...   \n",
       "\n",
       "                                                Author     Submitted Date  \n",
       "0                Roderick Karlemstrand, Ebba Leckström        4 May, 2021  \n",
       "1                                         V. K. Ivanov     27 March, 2021  \n",
       "2    Johan Kok Zhi Kang, Gaurav, Sien Yi Tan, Feng ...     23 March, 2021  \n",
       "3    Syed Yousaf Shah, Dhaval Patel, Long Vu, Xuan-...      8 March, 2021  \n",
       "4                            Yiqi Zhao, Matloob Khushi   29 January, 2021  \n",
       "..                                                 ...                ...  \n",
       "104                               J. -Emeterio Navarro  28 November, 2007  \n",
       "105                             G. Rotundo, M. Ausloos       20 May, 2006  \n",
       "106  Carlos Hernandez-Monteagudo, Licia Verde, Raul...     14 April, 2006  \n",
       "107                     Ching-Kang Ing, Ching-Zong Wei  15 February, 2006  \n",
       "108                   V. V. Kondratenko, Yu. A Kuperin     21 April, 2003  \n",
       "\n",
       "[109 rows x 3 columns]"
      ]
     },
     "execution_count": 31,
     "metadata": {},
     "output_type": "execute_result"
    }
   ],
   "source": [
    "df=pd.DataFrame([titles,authors,submit_dates]).T\n",
    "df.columns=['Title', 'Author', 'Submitted Date']\n",
    "df"
   ]
  },
  {
   "cell_type": "code",
   "execution_count": null,
   "id": "instrumental-bonus",
   "metadata": {},
   "outputs": [],
   "source": []
  }
 ],
 "metadata": {
  "kernelspec": {
   "display_name": "Python 3",
   "language": "python",
   "name": "python3"
  },
  "language_info": {
   "codemirror_mode": {
    "name": "ipython",
    "version": 3
   },
   "file_extension": ".py",
   "mimetype": "text/x-python",
   "name": "python",
   "nbconvert_exporter": "python",
   "pygments_lexer": "ipython3",
   "version": "3.7.10"
  }
 },
 "nbformat": 4,
 "nbformat_minor": 5
}
