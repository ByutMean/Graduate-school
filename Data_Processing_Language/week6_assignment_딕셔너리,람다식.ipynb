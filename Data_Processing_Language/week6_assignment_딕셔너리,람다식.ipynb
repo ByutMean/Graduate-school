{
 "cells": [
  {
   "cell_type": "markdown",
   "id": "geographic-transport",
   "metadata": {},
   "source": [
    "### 문제 1)"
   ]
  },
  {
   "cell_type": "code",
   "execution_count": 14,
   "id": "brown-employment",
   "metadata": {},
   "outputs": [
    {
     "name": "stdout",
     "output_type": "stream",
     "text": [
      "전화번호를 조회하고자 하는 학생의 이름을 입력하세요 : 강감찬\n",
      "010-1111-3333\n"
     ]
    }
   ],
   "source": [
    "student={'홍길동' : '010-1111-1111','이순신':'010-1111-2222','강감찬':'010-1111-3333'}\n",
    "st=str(input('전화번호를 조회하고자 하는 학생의 이름을 입력하세요 : ',))\n",
    "for k, v in student.items():\n",
    "    if st==k:\n",
    "        print(v)"
   ]
  },
  {
   "cell_type": "markdown",
   "id": "killing-afternoon",
   "metadata": {},
   "source": [
    "### 문제 2)"
   ]
  },
  {
   "cell_type": "code",
   "execution_count": 15,
   "id": "cubic-mixer",
   "metadata": {},
   "outputs": [],
   "source": [
    "fruit = ['   apple    ','banana','  melon']"
   ]
  },
  {
   "cell_type": "code",
   "execution_count": 25,
   "id": "eight-basic",
   "metadata": {},
   "outputs": [],
   "source": [
    "fruit_dict={}\n",
    "for i in fruit:\n",
    "    fr=i.strip()\n",
    "    fr_length=len(fr)\n",
    "    fruit_dict[fr]=fr_length"
   ]
  },
  {
   "cell_type": "code",
   "execution_count": 26,
   "id": "bearing-democracy",
   "metadata": {},
   "outputs": [
    {
     "data": {
      "text/plain": [
       "{'apple': 5, 'banana': 6, 'melon': 5}"
      ]
     },
     "execution_count": 26,
     "metadata": {},
     "output_type": "execute_result"
    }
   ],
   "source": [
    "fruit_dict"
   ]
  },
  {
   "cell_type": "markdown",
   "id": "trying-statement",
   "metadata": {},
   "source": [
    "### 문제 3)"
   ]
  },
  {
   "cell_type": "code",
   "execution_count": 42,
   "id": "centered-stuart",
   "metadata": {},
   "outputs": [
    {
     "data": {
      "text/plain": [
       "[1, 2, 3, 4, 5, 6, 7, 8, 9, 10]"
      ]
     },
     "execution_count": 42,
     "metadata": {},
     "output_type": "execute_result"
    }
   ],
   "source": [
    "num_list=[i for i in range(1,11)]\n",
    "num_list"
   ]
  },
  {
   "cell_type": "code",
   "execution_count": 43,
   "id": "broke-pacific",
   "metadata": {},
   "outputs": [],
   "source": [
    "f= lambda x:x%2 ==0"
   ]
  },
  {
   "cell_type": "code",
   "execution_count": 44,
   "id": "corporate-ending",
   "metadata": {},
   "outputs": [
    {
     "data": {
      "text/plain": [
       "[2, 4, 6, 8, 10]"
      ]
     },
     "execution_count": 44,
     "metadata": {},
     "output_type": "execute_result"
    }
   ],
   "source": [
    "new_list=list(filter(f,num_list))\n",
    "new_list"
   ]
  },
  {
   "cell_type": "code",
   "execution_count": 48,
   "id": "cardiac-finish",
   "metadata": {},
   "outputs": [
    {
     "data": {
      "text/plain": [
       "[4, 16, 36, 64, 100]"
      ]
     },
     "execution_count": 48,
     "metadata": {},
     "output_type": "execute_result"
    }
   ],
   "source": [
    "real_list=list(map(lambda x:x**2,new_list))\n",
    "real_list"
   ]
  },
  {
   "cell_type": "code",
   "execution_count": null,
   "id": "awful-innocent",
   "metadata": {},
   "outputs": [],
   "source": []
  }
 ],
 "metadata": {
  "kernelspec": {
   "display_name": "Python 3",
   "language": "python",
   "name": "python3"
  },
  "language_info": {
   "codemirror_mode": {
    "name": "ipython",
    "version": 3
   },
   "file_extension": ".py",
   "mimetype": "text/x-python",
   "name": "python",
   "nbconvert_exporter": "python",
   "pygments_lexer": "ipython3",
   "version": "3.7.10"
  }
 },
 "nbformat": 4,
 "nbformat_minor": 5
}
