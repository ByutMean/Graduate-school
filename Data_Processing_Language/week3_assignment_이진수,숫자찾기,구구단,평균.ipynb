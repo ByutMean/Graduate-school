{
 "cells": [
  {
   "cell_type": "markdown",
   "metadata": {},
   "source": [
    "### 이진수 구하기"
   ]
  },
  {
   "cell_type": "code",
   "execution_count": 24,
   "metadata": {},
   "outputs": [
    {
     "name": "stdout",
     "output_type": "stream",
     "text": [
      "십진수를 입력하세요 :11\n",
      "변환된 이진수 값은: 1011\n"
     ]
    }
   ],
   "source": [
    "decimal= int(input('십진수를 입력하세요 :'))\n",
    "binary_num='' #문자열 생성\n",
    "while decimal>1:\n",
    "    bi=int(decimal%2) #이진수 변환 원리에 따른 2로나눈 나머지값계산\n",
    "    decimal=decimal/2 #2로 나누기\n",
    "    binary_num=str(bi)+binary_num #나머지값 문자열을 역순배열\n",
    "print('변환된 이진수 값은:',binary_num)"
   ]
  },
  {
   "cell_type": "code",
   "execution_count": null,
   "metadata": {},
   "outputs": [],
   "source": []
  },
  {
   "cell_type": "markdown",
   "metadata": {},
   "source": [
    "### 숫자 찾기 게임"
   ]
  },
  {
   "cell_type": "code",
   "execution_count": 45,
   "metadata": {},
   "outputs": [
    {
     "name": "stdout",
     "output_type": "stream",
     "text": [
      "1부터 100까지의 숫자를 입력하세요150\n",
      "1부터 100까지의 숫자가 아닙니다. 다시 입력해주세요 \n",
      "-10\n",
      "1부터 100까지의 숫자가 아닙니다. 다시 입력해주세요 \n",
      "110\n",
      "1부터 100까지의 숫자가 아닙니다. 다시 입력해주세요 \n",
      "60\n",
      "숫자가 너무 큽니다. \n",
      "30\n",
      "숫자가 너무 작습니다. \n",
      "40\n",
      "숫자가 너무 큽니다. \n",
      "35\n",
      "숫자가 너무 큽니다. \n",
      "33\n",
      "숫자가 너무 작습니다. \n",
      "34\n",
      "정답입니다! 입력한 숫자는 34입니다\n"
     ]
    }
   ],
   "source": [
    "import random\n",
    "com_num=random.randint(1,100) #컴퓨터가 1~100 랜덤숫자 선택\n",
    "user_num = int(input('1부터 100까지의 숫자를 입력하세요')) #사용자가 입력\n",
    "while (user_num<1 or user_num>100): #범위를 벗어나면 다시입력요구\n",
    "    user_num = int(input('1부터 100까지의 숫자가 아닙니다. 다시 입력해주세요 \\n'))\n",
    "else:\n",
    "    while (user_num>=1 and user_num<=100): #올바른 범위에 대해\n",
    "        if com_num<user_num: #큰경우\n",
    "            user_num = int(input('숫자가 너무 큽니다. \\n'))\n",
    "        if com_num>user_num: #작은경우\n",
    "            user_num = int(input('숫자가 너무 작습니다. \\n'))\n",
    "        if com_num==user_num: #정답인경우\n",
    "            print('정답입니다! 입력한 숫자는 %d입니다' %user_num)\n",
    "            break #종료"
   ]
  },
  {
   "cell_type": "markdown",
   "metadata": {},
   "source": [
    "###  연속 구구단"
   ]
  },
  {
   "cell_type": "code",
   "execution_count": 7,
   "metadata": {},
   "outputs": [
    {
     "name": "stdout",
     "output_type": "stream",
     "text": [
      "구구단 몇단을 계산할까요(1~9)? \n",
      "3\n",
      "구구단 3단을 계산합니다\n",
      "3 x 1 = 3\n",
      "3 x 2 = 6\n",
      "3 x 3 = 9\n",
      "3 x 4 = 12\n",
      "3 x 5 = 15\n",
      "3 x 6 = 18\n",
      "3 x 7 = 21\n",
      "3 x 8 = 24\n",
      "3 x 9 = 27\n",
      "구구단 몇단을 계산할까요(1~9)? \n",
      "5\n",
      "구구단 5단을 계산합니다\n",
      "5 x 1 = 5\n",
      "5 x 2 = 10\n",
      "5 x 3 = 15\n",
      "5 x 4 = 20\n",
      "5 x 5 = 25\n",
      "5 x 6 = 30\n",
      "5 x 7 = 35\n",
      "5 x 8 = 40\n",
      "5 x 9 = 45\n",
      "구구단 몇단을 계산할까요(1~9)? \n",
      "9\n",
      "구구단 9단을 계산합니다\n",
      "9 x 1 = 9\n",
      "9 x 2 = 18\n",
      "9 x 3 = 27\n",
      "9 x 4 = 36\n",
      "9 x 5 = 45\n",
      "9 x 6 = 54\n",
      "9 x 7 = 63\n",
      "9 x 8 = 72\n",
      "9 x 9 = 81\n",
      "구구단 몇단을 계산할까요(1~9)? \n",
      "0\n",
      "구구단 게임을 종료합니다.\n"
     ]
    }
   ],
   "source": [
    "\n",
    "gugu=int(input('구구단 몇단을 계산할까요(1~9)? \\n'))\n",
    "while (gugu>=1 or gugu<=9) : #입력숫자가 1~9사이인지?\n",
    "    print('구구단 %d단을 계산합니다' %gugu)\n",
    "    for i in range(1,10): #입력된숫자를 1~9까지 곱해야 하므로 범위설정\n",
    "        print(gugu, 'x', i,'=',gugu*i) # n x i = m 형태로 만들기\n",
    "    gugu=int(input('구구단 몇단을 계산할까요(1~9)? \\n')) #구구단 한번이 끝나면 다음 구구단을 입력\n",
    "    if (gugu<1 or gugu>9): #실습문제의 종료조건이 0이라는게 1~9에 해당하지 않는 숫자를 말하는 것으로 판단하여 이렇게 했습니다.\n",
    "        print('구구단 게임을 종료합니다.') \n",
    "        break "
   ]
  },
  {
   "cell_type": "markdown",
   "metadata": {},
   "source": [
    "### 평균 구하기"
   ]
  },
  {
   "cell_type": "code",
   "execution_count": 12,
   "metadata": {},
   "outputs": [
    {
     "data": {
      "text/plain": [
       "[[49, 80, 20, 100, 80], [43, 60, 85, 30, 90], [49, 82, 48, 50, 100]]"
      ]
     },
     "execution_count": 12,
     "metadata": {},
     "output_type": "execute_result"
    }
   ],
   "source": [
    "korean=[49,80,20,100,80]\n",
    "math=[43,60,85,30,90]\n",
    "english=[49,82,48,50,100]\n",
    "mid_score=[korean,math,english] #2차원 리스트 생성\n",
    "mid_score"
   ]
  },
  {
   "cell_type": "code",
   "execution_count": 36,
   "metadata": {},
   "outputs": [],
   "source": [
    "result=[]\n",
    "for i in range(5):\n",
    "    for j in range(3):\n",
    "        sum_score=sum_score+mid_score[j][i] # i열 값들을 이중 반복문을 통해 더하기\n",
    "    result.append(sum_score/3)  #더해진값을 3으로 나눠서 평균\n",
    "    sum_score=0 #변수 초기화 "
   ]
  },
  {
   "cell_type": "code",
   "execution_count": 37,
   "metadata": {},
   "outputs": [
    {
     "data": {
      "text/plain": [
       "[47.0, 74.0, 51.0, 60.0, 90.0]"
      ]
     },
     "execution_count": 37,
     "metadata": {},
     "output_type": "execute_result"
    }
   ],
   "source": [
    "result"
   ]
  },
  {
   "cell_type": "code",
   "execution_count": null,
   "metadata": {},
   "outputs": [],
   "source": []
  }
 ],
 "metadata": {
  "kernelspec": {
   "display_name": "Python 3",
   "language": "python",
   "name": "python3"
  },
  "language_info": {
   "codemirror_mode": {
    "name": "ipython",
    "version": 3
   },
   "file_extension": ".py",
   "mimetype": "text/x-python",
   "name": "python",
   "nbconvert_exporter": "python",
   "pygments_lexer": "ipython3",
   "version": "3.7.10"
  }
 },
 "nbformat": 4,
 "nbformat_minor": 2
}
