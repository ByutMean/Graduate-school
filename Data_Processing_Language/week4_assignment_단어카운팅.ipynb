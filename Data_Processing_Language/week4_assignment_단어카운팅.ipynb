{
 "cells": [
  {
   "cell_type": "code",
   "execution_count": 1,
   "id": "specified-characterization",
   "metadata": {},
   "outputs": [],
   "source": [
    "f=open(r'C:\\Users\\BM\\Downloads\\yesterday.txt','r') #파일읽음\n",
    "lyric=f.readlines() #lyric list에 메모장 내에 문장들 저장\n",
    "f.close()"
   ]
  },
  {
   "cell_type": "code",
   "execution_count": 10,
   "id": "superior-arbitration",
   "metadata": {},
   "outputs": [],
   "source": [
    "sumyes=0\n",
    "for i in lyric: #lyric list에서 각 요소(문장)마다 yesterday가 몇번 등장했는지 카운트 \n",
    "    yes=i.lower().count('yesterday') #yes에 한줄에 몇번나오는지 저장\n",
    "    sumyes=sumyes+yes #sumyes에 누적=>총합계\n",
    "    "
   ]
  },
  {
   "cell_type": "code",
   "execution_count": 11,
   "id": "matched-dress",
   "metadata": {},
   "outputs": [
    {
     "name": "stdout",
     "output_type": "stream",
     "text": [
      "Number of a Word 'Yesterday' 9\n"
     ]
    }
   ],
   "source": [
    "print('Number of a Word \\'Yesterday\\'', sumyes) #형식에 맞춰서 정답표기"
   ]
  }
 ],
 "metadata": {
  "kernelspec": {
   "display_name": "Python 3",
   "language": "python",
   "name": "python3"
  },
  "language_info": {
   "codemirror_mode": {
    "name": "ipython",
    "version": 3
   },
   "file_extension": ".py",
   "mimetype": "text/x-python",
   "name": "python",
   "nbconvert_exporter": "python",
   "pygments_lexer": "ipython3",
   "version": "3.7.10"
  }
 },
 "nbformat": 4,
 "nbformat_minor": 5
}
