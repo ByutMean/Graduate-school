{
 "cells": [
  {
   "cell_type": "code",
   "execution_count": 2,
   "metadata": {},
   "outputs": [],
   "source": [
    "from konlpy.tag import Hannanum\n",
    "from pprint import pprint\n",
    "import nltk"
   ]
  },
  {
   "cell_type": "code",
   "execution_count": 3,
   "metadata": {},
   "outputs": [
    {
     "name": "stdout",
     "output_type": "stream",
     "text": [
      "\n",
      "손흥민(토트넘)이 맨유전에서 2골-1도움을 기록했다. 토트넘은 맨유를 대파했다.\n",
      "\n",
      "토트넘은 4일 오후(현지시각) 영국 맨체스터 올드트래퍼드에서 열린 맨유와의 잉글랜드 프리미어리그 4라운드 경기에서 6대1로 대승했다. 손흥민은 2골-1도움을 기록했다.\n",
      "\n",
      "\n",
      "\n",
      "손흥민 깜짝 선발\n",
      "\n",
      "이날 손흥민은 선발 명단에 이름을 올렸다. 깜짝 카드였다. 손흥민은 27일 뉴캐슬과의 EPL 3라운드 홈경기에서 햄스트링을 다쳤다. 전반 45분을 소화한 뒤 교체아웃됐다. 그 경기 직후 무리뉴 감독은 \"햄스트링을 다쳤다\"고 밝혔다. 이후 무리뉴 감독의 연막작전(?)이 시작됐다. 29일 첼시와의 카라바오컵에서 승리한 뒤 기자회견에서 \"손흥민은 10월 A매치 이후 복귀한다\"고 말했다. 30일 마카비 하이파와의 유로파리그 플레이오프를 하루 앞두고는 \"일요일 맨유전에서 나올 수도 있다\"고 했다. 1일 마카비 하이파전에서 승리한 후에는 \"나올 수도 안 나올 수도 있다. 일단 지켜봐야 한다. 나는 모르겠다\"고 밝혔다. 일단 무리뉴 감독은 손흥민을 원정 명단에 넣었다. 연막작전이었다. 결국 손흥민은 선발로 나섰다.\n",
      "\n",
      "토트넘은 손흥민을 비롯해 케인, 라멜라, 은돔벨레, 시소코, 호이비에르, 레길론, 산체스, 다이어, 오리에, 요리스를 선발로 내세웠다. 가용할 수 있는 모든 자원을 총동원했다. 맨유는 마르시알, 그린두으, 페르난데스, 래시포드, 포그바, 마티치, 쇼, 매과이어, 바이, 완-비사카, 데 헤아를 선발로 출전시켰다.\n",
      "\n",
      "\n",
      "난타전 그리고 손흥민 역전골\n",
      "\n",
      "경기 시작하자마자 맨유가 첫 골을 만들었다. 경기 시작 30초만에 산체스가 페널티 지역 안에서 맨유 공격수 마르시알에게 반칙을 범했다. 페널티킥 판정이 나왔다. 브루노 페르난데스가 키커로 나서 골을 성공시켰다.\n",
      "\n",
      "그러자 토트넘이 바로 동점골을 넣었다. 2분 후 은돔벨레가 넣었다. 맨유 문전 앞에서 혼전이 발생했다. 볼이 뒤로 흘렀다. 이를 달려들던 은돔벨레가 슈팅, 골을 만들어냈다.\n",
      "\n",
      "이어 손흥민이 전반 7분 역전골을 집어넣었다. 케인이 헤딩 경합 상황에서 파울을 당했다. 케인을 프리킥을 바로 시도했다. 빨리 전방으로 찔렀다. 손흥민이 볼을 잡고 돌진, 골을 만들어냈다. 맨유도 공세를 펼쳤다. 그러나 골을 만들어내지 못했다.\n",
      "\n",
      "\n",
      "마르시알 퇴장\n",
      "\n",
      "변수가 발생했다. 전반 28분 마르시알이 퇴장당했다. 라멜라와의 경합 중이었다. 마르시알이 라멜라의 얼굴을 때렸다. 폭력 행위로 레드카드를 받았다.\n",
      "\n",
      "토트넘은 2분 후 쐐기골을 박았다. 전방압박을 펼쳐 볼을 따냈다. 손흥민이 패스했고 케인이 마무리했다. 승기를 잡은 토트넘은 전반 37분 또 한 골을 추가했다. 손흥민이었다. 오리에가 크로스를 올렸다. 손흥민이 이를 그대로 슈팅으로 연결, 골을 만들어냈다. 토트넘은 전반을 4-1로 마쳤다.\n",
      "\n",
      "\n",
      "토트넘 마무리\n",
      "\n",
      "후반 토트넘과 맨유는 모두 선수를 교체했다. 토트넘은 라멜라를 빼고 루카스를 넣었다. 맨유는 마티치와 브루노를 빼고 맥토미니오 프레드를 넣었다. 토트넘의 공세를 계속됐다. 후반 6분 또 골을 추가했다. 패스를 통해 맨유의 수비진을 흔들었다. 그리고 호이비에르가 전진패스를 찔렀다. 오리에가 달려가 그대로 슈팅, 골을 만들어냈다. 맨유는 판 더 빅까지 집어넣었다. 그래도 이렇다할 반전 카드를 만들지 못했다. 토트넘은 여유있게 경기를 펼쳐나갔다. 후반 24분에는 은돔벨레를 빼고 델리를 넣었다.\n",
      "\n",
      "토트넘은 후반 26분 찬스를 다시 만들었다. 중원에서 볼을 낚아챘다. 그대로 손흥민에게 패스했다. 손흥민은 다시 전방으로 패스를 찔렀다. 케인이 잡고 슈팅했다. 데 헤아가 선방해냈다.\n",
      "\n",
      "무리뉴 감독은 후반 28분 손흥민을 빼고 데이비스를 넣었다. 손흥민 보호 차원이었다.\n",
      "\n",
      "남은 시간 토트넘은 손쉽게 경기를 이어갔다. 결국 토트넘이 기분좋은 대승을 거뒀다.\n"
     ]
    }
   ],
   "source": [
    "doc = open('C:\\\\Users\\\\AAA\\\\Downloads\\\\assignment3.txt', 'r', encoding='utf-8').read()\n",
    "\n",
    "print(doc)"
   ]
  },
  {
   "cell_type": "code",
   "execution_count": 4,
   "metadata": {},
   "outputs": [
    {
     "name": "stdout",
     "output_type": "stream",
     "text": [
      "['손흥민(토트넘)/N',\n",
      " '이/J',\n",
      " '맨유전/N',\n",
      " '에서/J',\n",
      " '2골-1도움/N',\n",
      " '을/J',\n",
      " '기록/N',\n",
      " '하/X',\n",
      " '었다/E',\n",
      " './S']\n",
      "['손흥민(토트넘)/N',\n",
      " '맨유전/N',\n",
      " '2골-1도움/N',\n",
      " '기록/N',\n",
      " '토트넘/N',\n",
      " '맨유/N',\n",
      " '대파/N',\n",
      " '토트넘/N',\n",
      " '4일/N',\n",
      " '오후(현지시각)/N']\n"
     ]
    }
   ],
   "source": [
    "pos_tagger = Hannanum()\n",
    "\n",
    "pos = ['/'.join(t) for t in pos_tagger.pos(doc)] \n",
    "\n",
    "pos_nouns = ['/'.join(t) for t in pos_tagger.pos(doc) if t[1]=='N']\n",
    "\n",
    "pprint(pos[0:10])\n",
    "\n",
    "pprint(pos_nouns[0:10])"
   ]
  },
  {
   "cell_type": "code",
   "execution_count": 5,
   "metadata": {},
   "outputs": [],
   "source": [
    "text = nltk.Text(pos_nouns)"
   ]
  },
  {
   "cell_type": "code",
   "execution_count": 6,
   "metadata": {},
   "outputs": [],
   "source": [
    "from konlpy.tag import Twitter\n",
    "import pandas as pd\n"
   ]
  },
  {
   "cell_type": "code",
   "execution_count": 7,
   "metadata": {},
   "outputs": [],
   "source": [
    "kor_corpus = pd.read_csv('C:\\\\Users\\\\AAA\\\\Downloads\\\\cap13.csv', encoding='utf-8') #영화 리뷰 수집 데이터 활용"
   ]
  },
  {
   "cell_type": "code",
   "execution_count": 8,
   "metadata": {},
   "outputs": [
    {
     "data": {
      "text/html": [
       "<div>\n",
       "<style scoped>\n",
       "    .dataframe tbody tr th:only-of-type {\n",
       "        vertical-align: middle;\n",
       "    }\n",
       "\n",
       "    .dataframe tbody tr th {\n",
       "        vertical-align: top;\n",
       "    }\n",
       "\n",
       "    .dataframe thead th {\n",
       "        text-align: right;\n",
       "    }\n",
       "</style>\n",
       "<table border=\"1\" class=\"dataframe\">\n",
       "  <thead>\n",
       "    <tr style=\"text-align: right;\">\n",
       "      <th></th>\n",
       "      <th>Unnamed: 0</th>\n",
       "      <th>text</th>\n",
       "    </tr>\n",
       "  </thead>\n",
       "  <tbody>\n",
       "    <tr>\n",
       "      <th>0</th>\n",
       "      <td>0</td>\n",
       "      <td>데이지 이 나쁜년아</td>\n",
       "    </tr>\n",
       "    <tr>\n",
       "      <th>1</th>\n",
       "      <td>1</td>\n",
       "      <td>영화끝나고 이 공허한 느낌ㅜㅜ... 순수한 사랑은 존재하는 것인지, 사랑에 눈이 멀...</td>\n",
       "    </tr>\n",
       "    <tr>\n",
       "      <th>2</th>\n",
       "      <td>2</td>\n",
       "      <td>솔직히 초반에 화려한 파티신에선 좀 지루한 감이 없지 않아 있었는데 후반으로 갈수록...</td>\n",
       "    </tr>\n",
       "    <tr>\n",
       "      <th>3</th>\n",
       "      <td>3</td>\n",
       "      <td>역시 디카프리오. 그리고 토비 맥과이어도 훌륭했다.</td>\n",
       "    </tr>\n",
       "    <tr>\n",
       "      <th>4</th>\n",
       "      <td>4</td>\n",
       "      <td>아름답다. 그리고 아린 이 여운이란.. 얼마만에 영화다운 영화를 봤는지....</td>\n",
       "    </tr>\n",
       "  </tbody>\n",
       "</table>\n",
       "</div>"
      ],
      "text/plain": [
       "   Unnamed: 0                                               text\n",
       "0           0                                         데이지 이 나쁜년아\n",
       "1           1  영화끝나고 이 공허한 느낌ㅜㅜ... 순수한 사랑은 존재하는 것인지, 사랑에 눈이 멀...\n",
       "2           2  솔직히 초반에 화려한 파티신에선 좀 지루한 감이 없지 않아 있었는데 후반으로 갈수록...\n",
       "3           3                       역시 디카프리오. 그리고 토비 맥과이어도 훌륭했다.\n",
       "4           4        아름답다. 그리고 아린 이 여운이란.. 얼마만에 영화다운 영화를 봤는지...."
      ]
     },
     "execution_count": 8,
     "metadata": {},
     "output_type": "execute_result"
    }
   ],
   "source": [
    "kor_corpus.head()"
   ]
  },
  {
   "cell_type": "code",
   "execution_count": 9,
   "metadata": {},
   "outputs": [
    {
     "name": "stderr",
     "output_type": "stream",
     "text": [
      "C:\\Users\\AAA\\anaconda3\\lib\\site-packages\\konlpy\\tag\\_okt.py:16: UserWarning: \"Twitter\" has changed to \"Okt\" since KoNLPy v0.4.5.\n",
      "  warn('\"Twitter\" has changed to \"Okt\" since KoNLPy v0.4.5.')\n"
     ]
    }
   ],
   "source": [
    "pos_tagger = Twitter()\n",
    "\n",
    "# 한글 문서 명사만 뽑아서 tf-idf\n",
    "stopword = ['것','수','저']\n",
    "total_content = []\n",
    "for content in kor_corpus['text'].head():\n",
    "    pos_content = ['/'.join(t[:-1]) for t in pos_tagger.pos(content) if ((t[1]=='Noun') & (t[0] not in stopword))]\n",
    "    total_content.append(' '.join(pos_content))"
   ]
  },
  {
   "cell_type": "code",
   "execution_count": 10,
   "metadata": {},
   "outputs": [
    {
     "data": {
      "text/plain": [
       "['데이지 이 년',\n",
       " '영화 이 느낌 사랑 존재 사랑 눈 사람 정말 바보 뿐 등등 생각 영화',\n",
       " '초반 파티 신 좀 감 후반 갈수록 몰입도 최고 영화 여운 개츠비 다른 인물 대해 계속 생각',\n",
       " '역시 디카프리오 토비 맥과이어',\n",
       " '이 여운 얼마 영화 다운 영화']"
      ]
     },
     "execution_count": 10,
     "metadata": {},
     "output_type": "execute_result"
    }
   ],
   "source": [
    "total_content"
   ]
  },
  {
   "cell_type": "code",
   "execution_count": 11,
   "metadata": {},
   "outputs": [],
   "source": [
    "from sklearn.feature_extraction.text import CountVectorizer"
   ]
  },
  {
   "cell_type": "code",
   "execution_count": 12,
   "metadata": {},
   "outputs": [],
   "source": [
    "kor_vectorizer = CountVectorizer(min_df=1) # 등장하는 단어들에 대한 오브젝트\n",
    "kor_bow = kor_vectorizer.fit_transform(total_content) # 딕셔너리에 실제 단어들을 입력"
   ]
  },
  {
   "cell_type": "code",
   "execution_count": 13,
   "metadata": {},
   "outputs": [
    {
     "name": "stdout",
     "output_type": "stream",
     "text": [
      "  (0, 7)\t1\n",
      "  (1, 19)\t2\n",
      "  (1, 3)\t1\n",
      "  (1, 14)\t2\n",
      "  (1, 22)\t1\n",
      "  (1, 13)\t1\n",
      "  (1, 21)\t1\n",
      "  (1, 12)\t1\n",
      "  (1, 8)\t1\n",
      "  (1, 15)\t1\n",
      "  (2, 19)\t1\n",
      "  (2, 15)\t1\n",
      "  (2, 23)\t1\n",
      "  (2, 26)\t1\n",
      "  (2, 27)\t1\n",
      "  (2, 0)\t1\n",
      "  (2, 11)\t1\n",
      "  (2, 24)\t1\n",
      "  (2, 17)\t1\n",
      "  (2, 1)\t1\n",
      "  (2, 4)\t1\n",
      "  (2, 20)\t1\n",
      "  (2, 6)\t1\n",
      "  (2, 2)\t1\n",
      "  (3, 18)\t1\n",
      "  (3, 9)\t1\n",
      "  (3, 25)\t1\n",
      "  (3, 10)\t1\n",
      "  (4, 19)\t2\n",
      "  (4, 17)\t1\n",
      "  (4, 16)\t1\n",
      "  (4, 5)\t1\n"
     ]
    }
   ],
   "source": [
    "print(kor_bow)"
   ]
  },
  {
   "cell_type": "code",
   "execution_count": 14,
   "metadata": {},
   "outputs": [
    {
     "name": "stdout",
     "output_type": "stream",
     "text": [
      "['갈수록', '개츠비', '계속', '느낌', '다른', '다운', '대해', '데이지', '등등', '디카프리오', '맥과이어', '몰입도', '바보', '사람', '사랑', '생각', '얼마', '여운', '역시', '영화', '인물', '정말', '존재', '초반', '최고', '토비', '파티', '후반']\n",
      "(5, 28)\n",
      "[[0 0 0 0 0 0 0 1 0 0 0 0 0 0 0 0 0 0 0 0 0 0 0 0 0 0 0 0]\n",
      " [0 0 0 1 0 0 0 0 1 0 0 0 1 1 2 1 0 0 0 2 0 1 1 0 0 0 0 0]\n",
      " [1 1 1 0 1 0 1 0 0 0 0 1 0 0 0 1 0 1 0 1 1 0 0 1 1 0 1 1]\n",
      " [0 0 0 0 0 0 0 0 0 1 1 0 0 0 0 0 0 0 1 0 0 0 0 0 0 1 0 0]\n",
      " [0 0 0 0 0 1 0 0 0 0 0 0 0 0 0 0 1 1 0 2 0 0 0 0 0 0 0 0]]\n"
     ]
    }
   ],
   "source": [
    "print(kor_vectorizer.get_feature_names())\n",
    "# bag-of-words\n",
    "print(kor_bow.shape)\n",
    "print(kor_bow.toarray())"
   ]
  },
  {
   "cell_type": "code",
   "execution_count": 15,
   "metadata": {},
   "outputs": [],
   "source": [
    "from sklearn.feature_extraction.text import TfidfTransformer\n",
    "\n",
    "transformer = TfidfTransformer() # tfidf 변환 인스턴스 생성\n",
    "tfidf = transformer.fit_transform(kor_bow.toarray())"
   ]
  },
  {
   "cell_type": "code",
   "execution_count": 16,
   "metadata": {},
   "outputs": [
    {
     "data": {
      "text/plain": [
       "array([[0.        , 0.        , 0.        , 0.        , 0.        ,\n",
       "        0.        , 0.        , 1.        , 0.        , 0.        ,\n",
       "        0.        , 0.        , 0.        , 0.        , 0.        ,\n",
       "        0.        , 0.        , 0.        , 0.        , 0.        ,\n",
       "        0.        , 0.        , 0.        , 0.        , 0.        ,\n",
       "        0.        , 0.        , 0.        ],\n",
       "       [0.        , 0.        , 0.        , 0.28346736, 0.        ,\n",
       "        0.        , 0.        , 0.        , 0.28346736, 0.        ,\n",
       "        0.        , 0.        , 0.28346736, 0.28346736, 0.56693472,\n",
       "        0.22869968, 0.        , 0.        , 0.        , 0.37968279,\n",
       "        0.        , 0.28346736, 0.28346736, 0.        , 0.        ,\n",
       "        0.        , 0.        , 0.        ],\n",
       "       [0.28005222, 0.28005222, 0.28005222, 0.        , 0.28005222,\n",
       "        0.        , 0.28005222, 0.        , 0.        , 0.        ,\n",
       "        0.        , 0.28005222, 0.        , 0.        , 0.        ,\n",
       "        0.22594437, 0.        , 0.22594437, 0.        , 0.18755423,\n",
       "        0.28005222, 0.        , 0.        , 0.28005222, 0.28005222,\n",
       "        0.        , 0.28005222, 0.28005222],\n",
       "       [0.        , 0.        , 0.        , 0.        , 0.        ,\n",
       "        0.        , 0.        , 0.        , 0.        , 0.5       ,\n",
       "        0.5       , 0.        , 0.        , 0.        , 0.        ,\n",
       "        0.        , 0.        , 0.        , 0.5       , 0.        ,\n",
       "        0.        , 0.        , 0.        , 0.        , 0.        ,\n",
       "        0.5       , 0.        , 0.        ],\n",
       "       [0.        , 0.        , 0.        , 0.        , 0.        ,\n",
       "        0.47431356, 0.        , 0.        , 0.        , 0.        ,\n",
       "        0.        , 0.        , 0.        , 0.        , 0.        ,\n",
       "        0.        , 0.47431356, 0.38267319, 0.        , 0.63530664,\n",
       "        0.        , 0.        , 0.        , 0.        , 0.        ,\n",
       "        0.        , 0.        , 0.        ]])"
      ]
     },
     "execution_count": 16,
     "metadata": {},
     "output_type": "execute_result"
    }
   ],
   "source": [
    "tfidf.toarray()"
   ]
  },
  {
   "cell_type": "code",
   "execution_count": 17,
   "metadata": {},
   "outputs": [
    {
     "name": "stdout",
     "output_type": "stream",
     "text": [
      "['공대', '과기대', '기경대', '서울']\n",
      "  (0, 3)\t1\n",
      "  (0, 1)\t1\n",
      "  (1, 3)\t1\n",
      "  (1, 1)\t1\n",
      "  (1, 0)\t1\n",
      "  (2, 3)\t1\n",
      "  (2, 1)\t1\n",
      "  (2, 0)\t2\n",
      "  (2, 2)\t1\n",
      "[[0 1 0 1]\n",
      " [1 1 0 1]\n",
      " [2 1 1 1]]\n",
      "  (0, 3)\t0.7071067811865475\n",
      "  (0, 1)\t0.7071067811865475\n",
      "  (1, 3)\t0.5228423068642596\n",
      "  (1, 1)\t0.5228423068642596\n",
      "  (1, 0)\t0.6732546652684398\n",
      "  (2, 3)\t0.29489355607792556\n",
      "  (2, 2)\t0.4992981930386358\n",
      "  (2, 1)\t0.29489355607792556\n",
      "  (2, 0)\t0.7594582908861973\n",
      "[[0.         0.70710678 0.         0.70710678]\n",
      " [0.67325467 0.52284231 0.         0.52284231]\n",
      " [0.75945829 0.29489356 0.49929819 0.29489356]]\n"
     ]
    }
   ],
   "source": [
    "ex_text = [\"서울 과기대 \",\n",
    "          \"서울 과기대 공대 \",\n",
    "          \"과기대 공대 \"\n",
    "          \"서울 공대 기경대\"]\n",
    "\n",
    "kor_vectorizer = CountVectorizer(min_df=1)\n",
    "kor_bow = kor_vectorizer.fit_transform(ex_text)\n",
    "\n",
    "transformer = TfidfTransformer()\n",
    "tfidf = transformer.fit_transform(kor_bow.toarray())\n",
    "print(kor_vectorizer.get_feature_names()) # 문서 셋에 등장하는 단어들\n",
    "print(kor_bow) # Sparse form\n",
    "print(kor_bow.toarray()) # Term Frequency로 문서를 표현\n",
    "print(tfidf) # Sparse form\n",
    "print(tfidf.toarray()) # TF-IDF로 문서를 표현"
   ]
  },
  {
   "cell_type": "code",
   "execution_count": 18,
   "metadata": {},
   "outputs": [
    {
     "name": "stdout",
     "output_type": "stream",
     "text": [
      "\n",
      "Collocations among tagged words:\n",
      "[(('-', 'SW'), ('비사', 'NNG')),\n",
      " (('10', 'NR'), ('월', 'NNM')),\n",
      " (('26', 'NR'), ('분', 'NNG')),\n",
      " (('A', 'OL'), ('매치', 'NNG')),\n",
      " (('EPL', 'OL'), ('3', 'NR')),\n",
      " (('고', 'ECS'), ('대로', 'NNG')),\n",
      " (('그리하', 'VV'), ('여도', 'ECD')),\n",
      " (('그린', 'NNG'), ('두', 'MDN')),\n",
      " (('글', 'NNG'), ('랜드', 'NNG')),\n",
      " (('기자', 'NNG'), ('회견', 'NNG'))]\n",
      "\n",
      "Collocations among words:\n",
      "[('마르', '시알')]\n",
      "\n",
      "Collocations among tags:\n",
      "[('ECD', 'VX'), ('MDN', 'UN'), ('XSA', 'ECD'), ('ECD', 'VXV'), ('ECE', 'XPN')]\n"
     ]
    }
   ],
   "source": [
    "from konlpy.utils import pprint\n",
    "from nltk import collocations\n",
    "from konlpy.tag import Kkma\n",
    "\n",
    "measures = collocations.BigramAssocMeasures()\n",
    "doc = open('C:\\\\Users\\\\AAA\\\\Downloads\\\\assignment3.txt', 'r', encoding='utf-8').read()\n",
    "print('\\nCollocations among tagged words:')\n",
    "\n",
    "tagged_words = Kkma().pos(doc)\n",
    "finder = collocations.BigramCollocationFinder.from_words(tagged_words)\n",
    "pprint(finder.nbest(measures.pmi, 10)) # top 10 n-grams with highest PMI\n",
    "\n",
    "print('\\nCollocations among words:')\n",
    "words = [w for w, t in tagged_words]\n",
    "ignored_words = [u'안녕']\n",
    "finder = collocations.BigramCollocationFinder.from_words(words)\n",
    "\n",
    "finder.apply_word_filter(lambda w: len(w) < 2 or w in ignored_words)\n",
    "finder.apply_freq_filter(3) # only bigrams that appear 3+ times\n",
    "pprint(finder.nbest(measures.pmi, 10))\n",
    "\n",
    "print('\\nCollocations among tags:')\n",
    "tags = [t for w, t in tagged_words]\n",
    "finder = collocations.BigramCollocationFinder.from_words(tags)\n",
    "pprint(finder.nbest(measures.pmi, 5))"
   ]
  },
  {
   "cell_type": "code",
   "execution_count": null,
   "metadata": {},
   "outputs": [],
   "source": [
    "#텍스트가 별로인지 제대로 나오지 않았네요."
   ]
  },
  {
   "cell_type": "code",
   "execution_count": 19,
   "metadata": {},
   "outputs": [],
   "source": [
    "from wordcloud import WordCloud\n",
    "from sklearn.feature_extraction.text import TfidfTransformer\n",
    "\n",
    "wordcloud = WordCloud(font_path = \"/Library/Fonts/AppleGothic.ttf\")"
   ]
  },
  {
   "cell_type": "code",
   "execution_count": 20,
   "metadata": {},
   "outputs": [
    {
     "data": {
      "text/plain": [
       "0                                              데이지 이 나쁜년아\n",
       "1       영화끝나고 이 공허한 느낌ㅜㅜ... 순수한 사랑은 존재하는 것인지, 사랑에 눈이 멀...\n",
       "2       솔직히 초반에 화려한 파티신에선 좀 지루한 감이 없지 않아 있었는데 후반으로 갈수록...\n",
       "3                            역시 디카프리오. 그리고 토비 맥과이어도 훌륭했다.\n",
       "4             아름답다. 그리고 아린 이 여운이란.. 얼마만에 영화다운 영화를 봤는지....\n",
       "                              ...                        \n",
       "5290                              잼딱시 드럽게 없네 파티 눈요기만 하다 끝\n",
       "5291    뭔  연출이 초중고딩 연애물이가 참나... 평론가 평점이 맞긴 맞구만비쥬얼 뷰포인트...\n",
       "5292    정말 2시간 내내 지루하기만했던 ;;심야영화봤는데 앞에 있는 관객들 다 자고 ;나고...\n",
       "5293    데이지가 너무 못생겻어요. 이건 진짜 투정이 아니라 배우가 안어울린다는 뜻임. 그렇...\n",
       "5294    내용은 모르겠고... 지금 엄마랑 보고있는데  존.나 이상한 장면 나와서 둘이서 아...\n",
       "Name: text, Length: 5295, dtype: object"
      ]
     },
     "execution_count": 20,
     "metadata": {},
     "output_type": "execute_result"
    }
   ],
   "source": [
    "te = kor_corpus['text']\n",
    "te"
   ]
  },
  {
   "cell_type": "code",
   "execution_count": 20,
   "metadata": {},
   "outputs": [],
   "source": [
    "kkma = Kkma() "
   ]
  },
  {
   "cell_type": "code",
   "execution_count": 26,
   "metadata": {},
   "outputs": [],
   "source": [
    "new_corpus = pd.read_csv('C:\\\\Users\\\\AAA\\\\Downloads\\\\dataset11.csv', encoding=' cp949') #특허 데이터 활용"
   ]
  },
  {
   "cell_type": "code",
   "execution_count": 27,
   "metadata": {},
   "outputs": [
    {
     "data": {
      "text/html": [
       "<div>\n",
       "<style scoped>\n",
       "    .dataframe tbody tr th:only-of-type {\n",
       "        vertical-align: middle;\n",
       "    }\n",
       "\n",
       "    .dataframe tbody tr th {\n",
       "        vertical-align: top;\n",
       "    }\n",
       "\n",
       "    .dataframe thead th {\n",
       "        text-align: right;\n",
       "    }\n",
       "</style>\n",
       "<table border=\"1\" class=\"dataframe\">\n",
       "  <thead>\n",
       "    <tr style=\"text-align: right;\">\n",
       "      <th></th>\n",
       "      <th>사건명</th>\n",
       "      <th>사건번호</th>\n",
       "      <th>원고명</th>\n",
       "      <th>피고명</th>\n",
       "      <th>법원명</th>\n",
       "      <th>법원국가</th>\n",
       "      <th>판결일</th>\n",
       "      <th>IPC코드분류</th>\n",
       "      <th>쟁점기술</th>\n",
       "      <th>요약제목</th>\n",
       "      <th>관련특허번호</th>\n",
       "      <th>판결결과</th>\n",
       "      <th>판결구분</th>\n",
       "      <th>본문URL</th>\n",
       "    </tr>\n",
       "  </thead>\n",
       "  <tbody>\n",
       "    <tr>\n",
       "      <th>0</th>\n",
       "      <td>엠씨엠 포트폴리오 엘엘씨 대 휴렛 패커</td>\n",
       "      <td>CAFC-2015-1091</td>\n",
       "      <td>MCM PORTFOLIO LLC</td>\n",
       "      <td>HEWLETT-PACKARD COMPANY</td>\n",
       "      <td>미연방순회항소법원</td>\n",
       "      <td>미국</td>\n",
       "      <td>2015-12-02</td>\n",
       "      <td>G06F,G11C</td>\n",
       "      <td>인텔리전트 멀티컨트롤러와 덤 플래쉬 카드</td>\n",
       "      <td>이해관계자의 IPR 신청에서 실제 이해당사자인지 판단 여부는 PTAB의 결정이며 수...</td>\n",
       "      <td>Multimode controller for intelligent and “dumb...</td>\n",
       "      <td>항소인 패소(원심 원고)</td>\n",
       "      <td>판결</td>\n",
       "      <td>http://www.ip-navi.or.kr/biblio/biblioDetail.n...</td>\n",
       "    </tr>\n",
       "    <tr>\n",
       "      <th>1</th>\n",
       "      <td>중바이 하이퍼마켓 유한공사 창칭루 쇼핑센터, 중바이 하이퍼마켓 유한공사 vs. 광둥...</td>\n",
       "      <td>(2015)鄂民三字第00611</td>\n",
       "      <td>중바이 하이퍼마켓 유한공사 창칭루 쇼핑센터|중바이 하이퍼마켓 유한공사</td>\n",
       "      <td>광둥 아오페이 애니메이션 컬처 주식유한공사(Alpha Animation and Cu...</td>\n",
       "      <td>후베이성 고급인민법원</td>\n",
       "      <td>중국</td>\n",
       "      <td>2015-11-25</td>\n",
       "      <td>NaN</td>\n",
       "      <td>甲勇士(갑옷용사) vs. 甲神(갑옷 전쟁의 신)</td>\n",
       "      <td>등록상표와 동일한 지정상품의 상표 유사성 및 합법적 출처에 대한 입증이 쟁점이 된 사례</td>\n",
       "      <td>NaN</td>\n",
       "      <td>항소인(원심 피고) 패소</td>\n",
       "      <td>NaN</td>\n",
       "      <td>http://www.ip-navi.or.kr/biblio/biblioDetail.n...</td>\n",
       "    </tr>\n",
       "    <tr>\n",
       "      <th>2</th>\n",
       "      <td>후베이 진텐안 의약업 유한공사 후이민 대형약국 vs. 저장 캉언베이 제약 주식유한공...</td>\n",
       "      <td>(2015)鄂民三字第00620</td>\n",
       "      <td>후베이 진텐안 의약업 유한공사 후이민 대형약국|후베이 진텐안 의약업 유한공사</td>\n",
       "      <td>저장 캉언베이 제약 주식유한공사</td>\n",
       "      <td>후베이성 고급인민법원</td>\n",
       "      <td>중국</td>\n",
       "      <td>2015-11-23</td>\n",
       "      <td>NaN</td>\n",
       "      <td>前列康</td>\n",
       "      <td>지정상품 분류 및 관용상표 여부가 쟁점이 된 사례.</td>\n",
       "      <td>NaN</td>\n",
       "      <td>항소인(원심 피고) 패소</td>\n",
       "      <td>NaN</td>\n",
       "      <td>http://www.ip-navi.or.kr/biblio/biblioDetail.n...</td>\n",
       "    </tr>\n",
       "    <tr>\n",
       "      <th>3</th>\n",
       "      <td>이빈 우량예 주식유한공사 vs. 우저우시 창저우구 리신위안 상가의 상표권 침해 분쟁사건</td>\n",
       "      <td>(2015)京知民字第1593</td>\n",
       "      <td>이빈 우량예 주식유한공사</td>\n",
       "      <td>우저우시 창저우구 리신위안 상가</td>\n",
       "      <td>광시좡족자치구 난닝시 중급인민법원</td>\n",
       "      <td>중국</td>\n",
       "      <td>2015-11-22</td>\n",
       "      <td>NaN</td>\n",
       "      <td>五粮液(우량예)&lt;그림&gt;CN1530009_01.jpg&lt;/그림&gt;</td>\n",
       "      <td>상표 및 지정상품의 유사성과 손해배상액이 쟁점이 된 사례.</td>\n",
       "      <td>NaN</td>\n",
       "      <td>원고 일부 승소</td>\n",
       "      <td>판결</td>\n",
       "      <td>http://www.ip-navi.or.kr/biblio/biblioDetail.n...</td>\n",
       "    </tr>\n",
       "    <tr>\n",
       "      <th>4</th>\n",
       "      <td>선전 레이보 과학기술 주식유한공사 vs. 베이징 둥팡저 솽룽순 마트 유한공사의 상표...</td>\n",
       "      <td>(2015)京知民字第1593</td>\n",
       "      <td>선전 레이보 과학기술 주식유한공사</td>\n",
       "      <td>베이징 둥팡저 솽룽순 마트 유한공사</td>\n",
       "      <td>베이징 지식산권법원</td>\n",
       "      <td>중국</td>\n",
       "      <td>2015-11-20</td>\n",
       "      <td>NaN</td>\n",
       "      <td>雷柏, ΓΛΡΟΟ</td>\n",
       "      <td>쟁점상품이 상표권 침해상품인지 모르고 판매했을 경우, 합법적인 제품 출처를 입증할 ...</td>\n",
       "      <td>NaN</td>\n",
       "      <td>항소인(원심 원고) 패소</td>\n",
       "      <td>NaN</td>\n",
       "      <td>http://www.ip-navi.or.kr/biblio/biblioDetail.n...</td>\n",
       "    </tr>\n",
       "    <tr>\n",
       "      <th>...</th>\n",
       "      <td>...</td>\n",
       "      <td>...</td>\n",
       "      <td>...</td>\n",
       "      <td>...</td>\n",
       "      <td>...</td>\n",
       "      <td>...</td>\n",
       "      <td>...</td>\n",
       "      <td>...</td>\n",
       "      <td>...</td>\n",
       "      <td>...</td>\n",
       "      <td>...</td>\n",
       "      <td>...</td>\n",
       "      <td>...</td>\n",
       "      <td>...</td>\n",
       "    </tr>\n",
       "    <tr>\n",
       "      <th>2729</th>\n",
       "      <td>우한유얼생물과학기술주식회사와 우한이아이보과학기술유한회사의 상표권 침해 분쟁 소송사건</td>\n",
       "      <td>(2011)知初字第1</td>\n",
       "      <td>우한유얼생물과학기술주식회사</td>\n",
       "      <td>우한이아이보과학기술유한회사</td>\n",
       "      <td>후베이성우한시둥후신기술개발구인민법원</td>\n",
       "      <td>중국</td>\n",
       "      <td>2012-03-01</td>\n",
       "      <td>NaN</td>\n",
       "      <td>&lt;그림 정렬=\"\"&gt;2011dongkaizhi1_100.jpg&lt;/그림&gt;,&lt;그림 정렬=...</td>\n",
       "      <td>상표권 침해 분쟁 사안에서 양 상표의 유사 여부가 쟁점이 된 사안.</td>\n",
       "      <td>NaN</td>\n",
       "      <td>원고 승소</td>\n",
       "      <td>판결서</td>\n",
       "      <td>http://www.ip-navi.or.kr/biblio/biblioDetail.n...</td>\n",
       "    </tr>\n",
       "    <tr>\n",
       "      <th>2730</th>\n",
       "      <td>데이 주식회사 대 세프라코 주식회사</td>\n",
       "      <td>847 F.Supp.2d 541</td>\n",
       "      <td>데이 주식회사 등</td>\n",
       "      <td>세프라코 주식회사</td>\n",
       "      <td>뉴욕 남부 지방법원</td>\n",
       "      <td>미국</td>\n",
       "      <td>2012-03-01</td>\n",
       "      <td>C07C,A61K,A61L,A61P</td>\n",
       "      <td>기관지를 확장하는 성분 및 방법</td>\n",
       "      <td>특허침해소송에서 피고가 부분약식판결을 신청한 사안으로 법원은 특허유효성에 관하여 특...</td>\n",
       "      <td>Formoterol process|Bronchodilating composition...</td>\n",
       "      <td>원고 패소</td>\n",
       "      <td>판결</td>\n",
       "      <td>http://www.ip-navi.or.kr/biblio/biblioDetail.n...</td>\n",
       "    </tr>\n",
       "    <tr>\n",
       "      <th>2731</th>\n",
       "      <td>빈 대 빈</td>\n",
       "      <td>856 F.Supp.2d 280</td>\n",
       "      <td>글렌 엘. 빈</td>\n",
       "      <td>알란 에프. 빈|미 테크놀로지스 유한책임회사</td>\n",
       "      <td>뉴햄프셔 지방법원</td>\n",
       "      <td>미국</td>\n",
       "      <td>2012-03-01</td>\n",
       "      <td>B01J,B05D,B22F,C23C,H01L,C25D</td>\n",
       "      <td>고유한 성질을 가지는 코팅된 입자의 제조 방법 및 코팅된 입자를 객체에 적용하는 방법</td>\n",
       "      <td>공동특허의 공동발명자이자 공동소유권자간의 소송으로 한국특허법상의 공동발명에 관한 사...</td>\n",
       "      <td>Methods of manufacturing coated particles havi...</td>\n",
       "      <td>원고 일부 승소</td>\n",
       "      <td>판결</td>\n",
       "      <td>http://www.ip-navi.or.kr/biblio/biblioDetail.n...</td>\n",
       "    </tr>\n",
       "    <tr>\n",
       "      <th>2732</th>\n",
       "      <td>산둥진마서우장식재료유한회사와 후리궈의 상표권 침해 분쟁 소송사건</td>\n",
       "      <td>(2012)中民三初字第2</td>\n",
       "      <td>산둥진마서우장식재료유한회사</td>\n",
       "      <td>후리궈</td>\n",
       "      <td>후난성장자제시중급인민법원</td>\n",
       "      <td>중국</td>\n",
       "      <td>2012-02-29</td>\n",
       "      <td>NaN</td>\n",
       "      <td>&lt;그림 정렬=\"\"&gt;2012zhangzhongminsan2_100.jpg&lt;/그림&gt;</td>\n",
       "      <td>등록상표와 유사한 상호 사용이 상표권 침해를 구성하는지가 쟁점이 된 사안.</td>\n",
       "      <td>NaN</td>\n",
       "      <td>원고 승소</td>\n",
       "      <td>판결서</td>\n",
       "      <td>http://www.ip-navi.or.kr/biblio/biblioDetail.n...</td>\n",
       "    </tr>\n",
       "    <tr>\n",
       "      <th>2733</th>\n",
       "      <td>샹탄시커다리실업유한회사와 항저우베이커유리섬유강화플라스틱제품유한회사의 지식재산권 분쟁...</td>\n",
       "      <td>(2012)浙知字第20</td>\n",
       "      <td>샹탄시커다리실업유한회사</td>\n",
       "      <td>항저우베이커유리섬유강화플라스틱제품유한회사</td>\n",
       "      <td>저장성고급인민법원</td>\n",
       "      <td>중국</td>\n",
       "      <td>2012-02-29</td>\n",
       "      <td>G01F</td>\n",
       "      <td>표준모듈 조합식 다규격 가스보일러케이스</td>\n",
       "      <td>실시행위가 특허권의 보호범위에 속하지 않으면 침해가 성립할 여지가 없다는 사례</td>\n",
       "      <td>NaN</td>\n",
       "      <td>항소인(원심 원고) 패소</td>\n",
       "      <td>판결</td>\n",
       "      <td>http://www.ip-navi.or.kr/biblio/biblioDetail.n...</td>\n",
       "    </tr>\n",
       "  </tbody>\n",
       "</table>\n",
       "<p>2734 rows × 14 columns</p>\n",
       "</div>"
      ],
      "text/plain": [
       "                                                    사건명               사건번호  \\\n",
       "0                                 엠씨엠 포트폴리오 엘엘씨 대 휴렛 패커     CAFC-2015-1091   \n",
       "1     중바이 하이퍼마켓 유한공사 창칭루 쇼핑센터, 중바이 하이퍼마켓 유한공사 vs. 광둥...   (2015)鄂民三字第00611   \n",
       "2     후베이 진텐안 의약업 유한공사 후이민 대형약국 vs. 저장 캉언베이 제약 주식유한공...   (2015)鄂民三字第00620   \n",
       "3      이빈 우량예 주식유한공사 vs. 우저우시 창저우구 리신위안 상가의 상표권 침해 분쟁사건    (2015)京知民字第1593   \n",
       "4     선전 레이보 과학기술 주식유한공사 vs. 베이징 둥팡저 솽룽순 마트 유한공사의 상표...    (2015)京知民字第1593   \n",
       "...                                                 ...                ...   \n",
       "2729     우한유얼생물과학기술주식회사와 우한이아이보과학기술유한회사의 상표권 침해 분쟁 소송사건        (2011)知初字第1   \n",
       "2730                                데이 주식회사 대 세프라코 주식회사  847 F.Supp.2d 541   \n",
       "2731                                              빈 대 빈  856 F.Supp.2d 280   \n",
       "2732                산둥진마서우장식재료유한회사와 후리궈의 상표권 침해 분쟁 소송사건      (2012)中民三初字第2   \n",
       "2733  샹탄시커다리실업유한회사와 항저우베이커유리섬유강화플라스틱제품유한회사의 지식재산권 분쟁...       (2012)浙知字第20   \n",
       "\n",
       "                                             원고명  \\\n",
       "0                              MCM PORTFOLIO LLC   \n",
       "1         중바이 하이퍼마켓 유한공사 창칭루 쇼핑센터|중바이 하이퍼마켓 유한공사   \n",
       "2     후베이 진텐안 의약업 유한공사 후이민 대형약국|후베이 진텐안 의약업 유한공사   \n",
       "3                                  이빈 우량예 주식유한공사   \n",
       "4                             선전 레이보 과학기술 주식유한공사   \n",
       "...                                          ...   \n",
       "2729                              우한유얼생물과학기술주식회사   \n",
       "2730                                   데이 주식회사 등   \n",
       "2731                                     글렌 엘. 빈   \n",
       "2732                              산둥진마서우장식재료유한회사   \n",
       "2733                                샹탄시커다리실업유한회사   \n",
       "\n",
       "                                                    피고명                  법원명  \\\n",
       "0                               HEWLETT-PACKARD COMPANY            미연방순회항소법원   \n",
       "1     광둥 아오페이 애니메이션 컬처 주식유한공사(Alpha Animation and Cu...          후베이성 고급인민법원   \n",
       "2                                     저장 캉언베이 제약 주식유한공사          후베이성 고급인민법원   \n",
       "3                                     우저우시 창저우구 리신위안 상가   광시좡족자치구 난닝시 중급인민법원   \n",
       "4                                   베이징 둥팡저 솽룽순 마트 유한공사           베이징 지식산권법원   \n",
       "...                                                 ...                  ...   \n",
       "2729                                     우한이아이보과학기술유한회사  후베이성우한시둥후신기술개발구인민법원   \n",
       "2730                                          세프라코 주식회사           뉴욕 남부 지방법원   \n",
       "2731                           알란 에프. 빈|미 테크놀로지스 유한책임회사            뉴햄프셔 지방법원   \n",
       "2732                                                후리궈        후난성장자제시중급인민법원   \n",
       "2733                             항저우베이커유리섬유강화플라스틱제품유한회사            저장성고급인민법원   \n",
       "\n",
       "     법원국가         판결일                        IPC코드분류  \\\n",
       "0      미국  2015-12-02                      G06F,G11C   \n",
       "1      중국  2015-11-25                            NaN   \n",
       "2      중국  2015-11-23                            NaN   \n",
       "3      중국  2015-11-22                            NaN   \n",
       "4      중국  2015-11-20                            NaN   \n",
       "...   ...         ...                            ...   \n",
       "2729   중국  2012-03-01                            NaN   \n",
       "2730   미국  2012-03-01            C07C,A61K,A61L,A61P   \n",
       "2731   미국  2012-03-01  B01J,B05D,B22F,C23C,H01L,C25D   \n",
       "2732   중국  2012-02-29                            NaN   \n",
       "2733   중국  2012-02-29                           G01F   \n",
       "\n",
       "                                                   쟁점기술  \\\n",
       "0                                인텔리전트 멀티컨트롤러와 덤 플래쉬 카드   \n",
       "1                            甲勇士(갑옷용사) vs. 甲神(갑옷 전쟁의 신)   \n",
       "2                                                   前列康   \n",
       "3                     五粮液(우량예)<그림>CN1530009_01.jpg</그림>   \n",
       "4                                             雷柏, ΓΛΡΟΟ   \n",
       "...                                                 ...   \n",
       "2729  <그림 정렬=\"\">2011dongkaizhi1_100.jpg</그림>,<그림 정렬=...   \n",
       "2730                                  기관지를 확장하는 성분 및 방법   \n",
       "2731    고유한 성질을 가지는 코팅된 입자의 제조 방법 및 코팅된 입자를 객체에 적용하는 방법   \n",
       "2732       <그림 정렬=\"\">2012zhangzhongminsan2_100.jpg</그림>   \n",
       "2733                              표준모듈 조합식 다규격 가스보일러케이스   \n",
       "\n",
       "                                                   요약제목  \\\n",
       "0     이해관계자의 IPR 신청에서 실제 이해당사자인지 판단 여부는 PTAB의 결정이며 수...   \n",
       "1      등록상표와 동일한 지정상품의 상표 유사성 및 합법적 출처에 대한 입증이 쟁점이 된 사례   \n",
       "2                          지정상품 분류 및 관용상표 여부가 쟁점이 된 사례.   \n",
       "3                      상표 및 지정상품의 유사성과 손해배상액이 쟁점이 된 사례.   \n",
       "4     쟁점상품이 상표권 침해상품인지 모르고 판매했을 경우, 합법적인 제품 출처를 입증할 ...   \n",
       "...                                                 ...   \n",
       "2729              상표권 침해 분쟁 사안에서 양 상표의 유사 여부가 쟁점이 된 사안.   \n",
       "2730  특허침해소송에서 피고가 부분약식판결을 신청한 사안으로 법원은 특허유효성에 관하여 특...   \n",
       "2731  공동특허의 공동발명자이자 공동소유권자간의 소송으로 한국특허법상의 공동발명에 관한 사...   \n",
       "2732         등록상표와 유사한 상호 사용이 상표권 침해를 구성하는지가 쟁점이 된 사안.    \n",
       "2733        실시행위가 특허권의 보호범위에 속하지 않으면 침해가 성립할 여지가 없다는 사례   \n",
       "\n",
       "                                                 관련특허번호           판결결과 판결구분  \\\n",
       "0     Multimode controller for intelligent and “dumb...  항소인 패소(원심 원고)   판결   \n",
       "1                                                   NaN  항소인(원심 피고) 패소  NaN   \n",
       "2                                                   NaN  항소인(원심 피고) 패소  NaN   \n",
       "3                                                   NaN       원고 일부 승소   판결   \n",
       "4                                                   NaN  항소인(원심 원고) 패소  NaN   \n",
       "...                                                 ...            ...  ...   \n",
       "2729                                                NaN          원고 승소  판결서   \n",
       "2730  Formoterol process|Bronchodilating composition...          원고 패소   판결   \n",
       "2731  Methods of manufacturing coated particles havi...       원고 일부 승소   판결   \n",
       "2732                                                NaN          원고 승소  판결서   \n",
       "2733                                                NaN  항소인(원심 원고) 패소   판결   \n",
       "\n",
       "                                                  본문URL  \n",
       "0     http://www.ip-navi.or.kr/biblio/biblioDetail.n...  \n",
       "1     http://www.ip-navi.or.kr/biblio/biblioDetail.n...  \n",
       "2     http://www.ip-navi.or.kr/biblio/biblioDetail.n...  \n",
       "3     http://www.ip-navi.or.kr/biblio/biblioDetail.n...  \n",
       "4     http://www.ip-navi.or.kr/biblio/biblioDetail.n...  \n",
       "...                                                 ...  \n",
       "2729  http://www.ip-navi.or.kr/biblio/biblioDetail.n...  \n",
       "2730  http://www.ip-navi.or.kr/biblio/biblioDetail.n...  \n",
       "2731  http://www.ip-navi.or.kr/biblio/biblioDetail.n...  \n",
       "2732  http://www.ip-navi.or.kr/biblio/biblioDetail.n...  \n",
       "2733  http://www.ip-navi.or.kr/biblio/biblioDetail.n...  \n",
       "\n",
       "[2734 rows x 14 columns]"
      ]
     },
     "execution_count": 27,
     "metadata": {},
     "output_type": "execute_result"
    }
   ],
   "source": [
    "new_corpus"
   ]
  },
  {
   "cell_type": "code",
   "execution_count": 29,
   "metadata": {},
   "outputs": [],
   "source": [
    "real = new_corpus['요약제목']"
   ]
  },
  {
   "cell_type": "code",
   "execution_count": 32,
   "metadata": {},
   "outputs": [],
   "source": [
    "import re\n",
    "total_news = []\n",
    "stopword = ['것','수','저']\n",
    "\n",
    "for news in real[:1000]:\n",
    "    pos_news = re.sub('.* 기자 = ', '', news)\n",
    "    pos_news = ['/'.join(t[:-1]) for t in pos_tagger.pos(pos_news) if ((t[1]=='Noun') & (t[0] not in stopword))]\n",
    "    total_news.append(' '.join(pos_news))"
   ]
  },
  {
   "cell_type": "code",
   "execution_count": 34,
   "metadata": {},
   "outputs": [],
   "source": [
    "kor_vectorizer = CountVectorizer(min_df=10)\n",
    "kor_bow = kor_vectorizer.fit_transform(total_news)"
   ]
  },
  {
   "cell_type": "code",
   "execution_count": 35,
   "metadata": {},
   "outputs": [
    {
     "data": {
      "text/plain": [
       "array([[1.        , 0.        , 0.13483997, 0.        , 0.        ,\n",
       "        0.24618298, 0.09534626, 0.0805823 , 0.0836242 , 0.30151134,\n",
       "        0.        , 0.        , 0.08703883, 0.13483997, 0.27272727,\n",
       "        0.        , 0.        , 0.        , 0.        , 0.        ,\n",
       "        0.        , 0.10660036, 0.10660036, 0.12309149, 0.06741999,\n",
       "        0.09534626, 0.        , 0.        , 0.15075567, 0.        ,\n",
       "        0.15075567, 0.        , 0.15075567, 0.07784989, 0.0805823 ,\n",
       "        0.24618298, 0.19069252, 0.        , 0.19069252, 0.50251891,\n",
       "        0.0836242 , 0.09534626, 0.50251891, 0.13483997, 0.10050378,\n",
       "        0.28603878, 0.28603878, 0.        , 0.24618298, 0.10050378,\n",
       "        0.30151134, 0.2508726 , 0.15075567, 0.17407766, 0.45226702,\n",
       "        0.10050378, 0.30151134, 0.10660036, 0.24618298, 0.10050378,\n",
       "        0.10050378, 0.        , 0.20100756, 0.18181818, 0.24618298,\n",
       "        0.24618298, 0.22792115, 0.        , 0.11396058, 0.34188173,\n",
       "        0.11396058, 0.10050378, 0.0805823 , 0.09534626, 0.22792115,\n",
       "        0.26967994, 0.26967994, 0.31980107, 0.26967994, 0.19069252,\n",
       "        0.22792115, 0.21320072, 0.09534626, 0.31980107, 0.05913124,\n",
       "        0.38138504, 0.11396058, 0.27272727, 0.13483997, 0.38138504,\n",
       "        0.10660036, 0.26967994, 0.19069252, 0.45454545, 0.12309149,\n",
       "        0.24618298, 0.21320072, 0.10050378, 0.21320072, 0.38138504,\n",
       "        0.24618298, 0.07784989, 0.1672484 , 0.10050378, 0.30151134,\n",
       "        0.        , 0.        , 0.        , 0.31980107, 0.11396058,\n",
       "        0.18181818, 0.07106691, 0.        , 0.21320072, 0.1672484 ,\n",
       "        0.20100756, 0.45584231, 0.15075567, 0.12856487, 0.0805823 ,\n",
       "        0.10050378, 0.09090909, 0.11396058, 0.45584231, 0.15075567,\n",
       "        0.09534626, 0.21320072, 0.10660036, 0.16116459, 0.        ,\n",
       "        0.10050378, 0.        , 0.07312724, 0.0805823 , 0.07784989,\n",
       "        0.        , 0.10050378, 0.        , 0.        , 0.0836242 ,\n",
       "        0.        , 0.12309149, 0.13834289, 0.        , 0.        ,\n",
       "        0.        , 0.09090909, 0.08703883, 0.24618298, 0.        ,\n",
       "        0.        , 0.18181818, 0.        , 0.3344968 , 0.1672484 ,\n",
       "        0.24618298, 0.        , 0.09534626, 0.19069252, 0.09534626,\n",
       "        0.        , 0.09534626, 0.        , 0.        , 0.        ,\n",
       "        0.        , 0.19069252, 0.12309149, 0.        , 0.        ,\n",
       "        0.09534626, 0.13834289, 0.1672484 , 0.11396058, 0.11605177,\n",
       "        0.16116459, 0.        , 0.06741999, 0.09534626, 0.10050378,\n",
       "        0.        , 0.04828045, 0.        , 0.11396058, 0.15569979,\n",
       "        0.08703883, 0.        , 0.07106691, 0.15075567, 0.22792115,\n",
       "        0.1672484 , 0.10660036, 0.04956816, 0.09534626, 0.        ,\n",
       "        0.17407766, 0.17407766, 0.        , 0.19069252, 0.10050378,\n",
       "        0.09090909, 0.10050378, 0.31980107, 0.27668579, 0.1672484 ,\n",
       "        0.09534626, 0.10050378, 0.10050378, 0.11396058, 0.09090909,\n",
       "        0.        , 0.10660036, 0.13483997, 0.        , 0.        ,\n",
       "        0.10050378, 0.18181818, 0.10050378, 0.10050378, 0.18181818,\n",
       "        0.49236596, 0.26967994, 0.30151134, 0.        , 0.        ,\n",
       "        0.16116459, 0.24618298, 0.10660036, 0.12309149, 0.09090909,\n",
       "        0.19069252, 0.0836242 , 0.34188173, 0.        , 0.        ,\n",
       "        0.        , 0.18181818, 0.09534626, 0.09534626, 0.        ,\n",
       "        0.        , 0.13483997, 0.07312724, 0.17407766, 0.12309149,\n",
       "        0.        , 0.        , 0.30151134, 0.12856487, 0.27272727,\n",
       "        0.20100756, 0.08703883, 0.67419986, 0.15569979, 0.11396058,\n",
       "        0.        , 0.        , 0.        , 0.15075567, 0.24618298,\n",
       "        0.11396058, 0.        , 0.10660036, 0.10050378, 0.        ,\n",
       "        0.        , 0.0836242 , 0.16116459, 0.10050378, 0.        ,\n",
       "        0.        , 0.        , 0.        , 0.45226702, 0.        ,\n",
       "        0.10050378, 0.        , 0.        , 0.        , 0.11396058,\n",
       "        0.        , 0.        , 0.        , 0.17407766, 0.        ,\n",
       "        0.13483997, 0.19069252, 0.        , 0.        , 0.        ,\n",
       "        0.        , 0.        , 0.        , 0.        , 0.        ,\n",
       "        0.        , 0.        , 0.        , 0.        , 0.09090909,\n",
       "        0.        , 0.        , 0.22792115, 0.19069252, 0.        ,\n",
       "        0.        , 0.        , 0.        , 0.15569979, 0.0805823 ,\n",
       "        0.        , 0.17407766, 0.        , 0.        , 0.        ,\n",
       "        0.        , 0.11396058, 0.        , 0.        , 0.20100756,\n",
       "        0.        , 0.        , 0.08703883, 0.        , 0.        ,\n",
       "        0.        , 0.        , 0.26111648, 0.        , 0.        ,\n",
       "        0.07784989, 0.        , 0.09534626, 0.        , 0.        ,\n",
       "        0.        , 0.        , 0.        , 0.        , 0.        ,\n",
       "        0.30151134, 0.        , 0.        , 0.0836242 , 0.        ,\n",
       "        0.10660036, 0.        , 0.        , 0.        , 0.        ,\n",
       "        0.10050378, 0.        , 0.        , 0.        , 0.        ,\n",
       "        0.        , 0.        , 0.        , 0.        , 0.        ,\n",
       "        0.        , 0.        , 0.        , 0.        , 0.07106691,\n",
       "        0.        , 0.        , 0.        , 0.        , 0.        ,\n",
       "        0.        , 0.07784989, 0.        , 0.        , 0.        ,\n",
       "        0.        , 0.        , 0.        , 0.        , 0.        ,\n",
       "        0.        , 0.        , 0.        , 0.        , 0.        ,\n",
       "        0.30151134, 0.        , 0.        , 0.        , 0.15075567,\n",
       "        0.        , 0.        , 0.08703883, 0.09534626, 0.        ,\n",
       "        0.40451992, 0.        , 0.        , 0.        , 0.        ,\n",
       "        0.        , 0.        , 0.        , 0.        , 0.        ,\n",
       "        0.        , 0.        , 0.        , 0.        , 0.        ,\n",
       "        0.14625448, 0.        , 0.        , 0.        , 0.        ,\n",
       "        0.        , 0.07784989, 0.        , 0.07537784, 0.        ,\n",
       "        0.07537784, 0.22792115, 0.        , 0.        , 0.        ,\n",
       "        0.        , 0.        , 0.        , 0.        , 0.        ,\n",
       "        0.        , 0.        , 0.        , 0.        , 0.        ,\n",
       "        0.        , 0.        , 0.12309149, 0.        , 0.        ,\n",
       "        0.08703883, 0.        , 0.09534626, 0.21320072, 0.36927447,\n",
       "        0.        , 0.        , 0.        , 0.22792115, 0.        ,\n",
       "        0.        , 0.        , 0.        , 0.10050378, 0.        ,\n",
       "        0.09090909, 0.        , 0.        , 0.        , 0.        ,\n",
       "        0.13483997, 0.        , 0.        , 0.        , 0.        ,\n",
       "        0.        , 0.0805823 , 0.30151134, 0.        , 0.        ,\n",
       "        0.        , 0.        , 0.        , 0.        , 0.09534626,\n",
       "        0.        , 0.        , 0.        , 0.        , 0.        ,\n",
       "        0.        , 0.        , 0.        , 0.        , 0.        ,\n",
       "        0.        , 0.        , 0.        , 0.        , 0.        ,\n",
       "        0.        , 0.        , 0.        , 0.        , 0.        ,\n",
       "        0.        , 0.09090909, 0.07784989, 0.07537784, 0.09534626,\n",
       "        0.        , 0.        , 0.        , 0.        , 0.        ,\n",
       "        0.        , 0.        , 0.        , 0.        , 0.        ,\n",
       "        0.        , 0.10050378, 0.        , 0.09534626, 0.        ,\n",
       "        0.        , 0.        , 0.        , 0.        , 0.        ,\n",
       "        0.        , 0.        , 0.0805823 , 0.        , 0.        ,\n",
       "        0.        , 0.        , 0.        , 0.        , 0.        ,\n",
       "        0.        , 0.        , 0.        , 0.        , 0.        ,\n",
       "        0.12309149, 0.10660036, 0.        , 0.        , 0.11396058,\n",
       "        0.24618298, 0.15075567, 0.        , 0.        , 0.08703883,\n",
       "        0.        , 0.        , 0.0805823 , 0.        , 0.11396058,\n",
       "        0.11396058, 0.15075567, 0.        , 0.        , 0.        ,\n",
       "        0.        , 0.07312724, 0.        , 0.        , 0.        ,\n",
       "        0.06917145, 0.        , 0.        , 0.10050378, 0.        ,\n",
       "        0.        , 0.        , 0.        , 0.10050378, 0.        ,\n",
       "        0.07537784, 0.        , 0.24618298, 0.        , 0.        ,\n",
       "        0.        , 0.        , 0.        , 0.        , 0.        ,\n",
       "        0.        , 0.        , 0.        , 0.12309149, 0.45454545,\n",
       "        0.22792115, 0.12309149, 0.        , 0.07784989, 0.        ,\n",
       "        0.        , 0.        , 0.        , 0.        , 0.        ,\n",
       "        0.        , 0.        , 0.        , 0.        , 0.        ,\n",
       "        0.        , 0.        , 0.        , 0.        , 0.        ,\n",
       "        0.        , 0.        , 0.        , 0.        , 0.        ,\n",
       "        0.        , 0.        , 0.        , 0.07312724, 0.        ,\n",
       "        0.        , 0.34188173, 0.        , 0.        , 0.        ,\n",
       "        0.        , 0.        , 0.        , 0.31980107, 0.        ,\n",
       "        0.        , 0.        , 0.        , 0.        , 0.        ,\n",
       "        0.        , 0.        , 0.        , 0.        , 0.        ,\n",
       "        0.        , 0.        , 0.        , 0.40451992, 0.        ,\n",
       "        0.        , 0.        , 0.        , 0.10660036, 0.15569979,\n",
       "        0.        , 0.        , 0.        , 0.        , 0.0805823 ,\n",
       "        0.10050378, 0.        , 0.        , 0.        , 0.        ,\n",
       "        0.        , 0.        , 0.07784989, 0.        , 0.        ,\n",
       "        0.        , 0.10050378, 0.        , 0.        , 0.21320072,\n",
       "        0.        , 0.        , 0.        , 0.        , 0.        ,\n",
       "        0.        , 0.        , 0.        , 0.        , 0.        ,\n",
       "        0.        , 0.        , 0.        , 0.        , 0.11396058,\n",
       "        0.        , 0.        , 0.        , 0.        , 0.        ,\n",
       "        0.        , 0.        , 0.        , 0.        , 0.27272727,\n",
       "        0.        , 0.        , 0.        , 0.        , 0.        ,\n",
       "        0.        , 0.        , 0.21320072, 0.        , 0.        ,\n",
       "        0.        , 0.        , 0.        , 0.        , 0.        ,\n",
       "        0.        , 0.07784989, 0.        , 0.        , 0.        ,\n",
       "        0.        , 0.23354968, 0.10660036, 0.        , 0.        ,\n",
       "        0.        , 0.11396058, 0.13483997, 0.        , 0.        ,\n",
       "        0.        , 0.08703883, 0.10660036, 0.        , 0.        ,\n",
       "        0.        , 0.        , 0.06428243, 0.        , 0.        ,\n",
       "        0.09090909, 0.0836242 , 0.        , 0.        , 0.        ,\n",
       "        0.        , 0.        , 0.        , 0.        , 0.        ,\n",
       "        0.        , 0.        , 0.05802589, 0.10660036, 0.        ,\n",
       "        0.        , 0.        , 0.        , 0.11396058, 0.        ,\n",
       "        0.        , 0.07784989, 0.        , 0.        , 0.        ,\n",
       "        0.        , 0.        , 0.        , 0.        , 0.09534626,\n",
       "        0.31139958, 0.21320072, 0.2508726 , 0.11396058, 0.        ,\n",
       "        0.        , 0.        , 0.10660036, 0.10050378, 0.10050378,\n",
       "        0.        , 0.        , 0.        , 0.        , 0.        ,\n",
       "        0.        , 0.07312724, 0.        , 0.10660036, 0.09090909,\n",
       "        0.09090909, 0.        , 0.24618298, 0.        , 0.30151134,\n",
       "        0.10660036, 0.        , 0.11396058, 0.        , 0.        ,\n",
       "        0.        , 0.        , 0.        , 0.        , 0.23354968,\n",
       "        0.        , 0.        , 0.09090909, 0.31980107, 0.        ,\n",
       "        0.10050378, 0.        , 0.11396058, 0.31980107, 0.12309149,\n",
       "        0.        , 0.        , 0.        , 0.        , 0.        ,\n",
       "        0.        , 0.        , 0.        , 0.        , 0.        ,\n",
       "        0.12309149, 0.        , 0.11605177, 0.        , 0.        ,\n",
       "        0.0836242 , 0.        , 0.09534626, 0.07784989, 0.        ,\n",
       "        0.        , 0.        , 0.        , 0.        , 0.12309149,\n",
       "        0.        , 0.        , 0.31980107, 0.24618298, 0.        ,\n",
       "        0.        , 0.        , 0.24618298, 0.        , 0.        ,\n",
       "        0.        , 0.28603878, 0.2508726 , 0.21320072, 0.        ,\n",
       "        0.        , 0.        , 0.        , 0.        , 0.13483997,\n",
       "        0.20100756, 0.        , 0.        , 0.22792115, 0.        ,\n",
       "        0.11396058, 0.        , 0.        , 0.        , 0.        ,\n",
       "        0.11396058, 0.        , 0.        , 0.        , 0.        ,\n",
       "        0.        , 0.        , 0.        , 0.10660036, 0.        ,\n",
       "        0.14213381, 0.        , 0.10660036, 0.        , 0.        ,\n",
       "        0.22792115, 0.        , 0.        , 0.        , 0.        ,\n",
       "        0.        , 0.24618298, 0.        , 0.        , 0.        ,\n",
       "        0.        , 0.19069252, 0.        , 0.31139958, 0.0805823 ,\n",
       "        0.09090909, 0.        , 0.        , 0.14213381, 0.17407766,\n",
       "        0.0836242 , 0.        , 0.        , 0.12309149, 0.21320072,\n",
       "        0.0836242 , 0.        , 0.06917145, 0.        , 0.10660036,\n",
       "        0.        , 0.        , 0.        , 0.        , 0.        ,\n",
       "        0.14213381, 0.        , 0.        , 0.        , 0.        ,\n",
       "        0.        , 0.        , 0.        , 0.12309149, 0.        ,\n",
       "        0.        , 0.        , 0.        , 0.15075567, 0.        ,\n",
       "        0.12309149, 0.        , 0.        , 0.12309149, 0.        ,\n",
       "        0.30151134, 0.        , 0.19069252, 0.        , 0.24618298,\n",
       "        0.        , 0.20100756, 0.        , 0.        , 0.        ,\n",
       "        0.        , 0.13483997, 0.        , 0.        , 0.06741999,\n",
       "        0.        , 0.0836242 , 0.        , 0.        , 0.        ,\n",
       "        0.        , 0.        , 0.        , 0.        , 0.        ,\n",
       "        0.        , 0.19069252, 0.        , 0.        , 0.        ,\n",
       "        0.        , 0.        , 0.        , 0.        , 0.16116459,\n",
       "        0.13159034, 0.07784989, 0.        , 0.        , 0.        ,\n",
       "        0.        , 0.        , 0.        , 0.        , 0.        ,\n",
       "        0.        , 0.        , 0.10050378, 0.2508726 , 0.        ,\n",
       "        0.10050378, 0.        , 0.        , 0.        , 0.        ,\n",
       "        0.        , 0.11396058, 0.        , 0.        , 0.07106691,\n",
       "        0.13483997, 0.        , 0.        , 0.        , 0.        ,\n",
       "        0.08703883, 0.        , 0.10660036, 0.17407766, 0.        ]])"
      ]
     },
     "execution_count": 35,
     "metadata": {},
     "output_type": "execute_result"
    }
   ],
   "source": [
    "from sklearn.metrics.pairwise import cosine_similarity\n",
    "cosine_similarity(kor_bow[0], kor_bow)"
   ]
  },
  {
   "cell_type": "code",
   "execution_count": 36,
   "metadata": {},
   "outputs": [
    {
     "data": {
      "text/plain": [
       "array([[  0, 252,  39,  42, 220, 116, 123, 584,  93,  54, 273, 395, 638,\n",
       "         85,  89,  99, 444,  69, 616, 232, 153, 832,  83,  77, 623, 108,\n",
       "        798, 803, 202, 760, 888, 340,   9, 104,  56, 930,  50, 784, 385,\n",
       "        467, 247, 222,  45,  46, 841, 203, 689,  87,  14, 249,  78, 221,\n",
       "         91,  75,  76, 327, 978, 762, 842,  51,  95, 100,   5, 226, 572,\n",
       "        259, 833,  64, 155, 881,  48, 148,  35, 782,  65, 540,  58, 934,\n",
       "        837, 711, 794, 421, 448, 853, 585, 189, 302, 875,  74,  80,  66,\n",
       "        443, 664, 899, 113,  98,  96, 761,  81, 126, 843, 697, 115,  62,\n",
       "        936, 319, 250, 850,  36, 230, 956, 303, 166, 932, 286,  79, 886,\n",
       "         38, 198,  92, 158, 151, 216,  63, 110, 219, 236, 243, 196, 195,\n",
       "        998,  53, 894, 311, 283, 102, 172, 204, 154, 114, 190, 225, 267,\n",
       "        128, 175, 964, 184, 253, 644, 308, 923, 389, 124, 117, 188,  32,\n",
       "        541,  52,  28, 258, 551,  30, 410, 893, 910, 870, 171, 142, 460,\n",
       "        717, 990, 241,  88, 285,  43, 849,   2,  13, 941, 212, 965, 118,\n",
       "        248,  23, 586, 583, 898,  94, 925, 815, 167, 804, 141, 437, 829,\n",
       "        244, 535, 918, 928, 228, 174, 817, 279, 550, 986, 539, 316, 254,\n",
       "        260, 549, 855,  68, 183,  86, 122, 679, 173, 802, 787, 109,  70,\n",
       "        748, 716, 860, 208, 763, 767, 778, 211, 127, 262, 743, 872, 345,\n",
       "        997, 868,  90,  57, 722, 785, 643, 712,  22, 536, 191,  21, 227,\n",
       "        904,  60, 268, 120, 350, 199, 275, 977, 980, 217, 206,  71, 103,\n",
       "        215,  97, 207, 563, 201, 218, 769, 263, 568,  49, 179, 661, 511,\n",
       "         55, 768, 650,  44, 136,  59, 130, 800, 453, 759, 513, 332, 822,\n",
       "        393, 442, 474, 499, 170,   6,  82, 178, 125,  73, 159, 205,  41,\n",
       "        161, 157, 238, 193,  25, 237, 779, 455, 229, 780, 890, 121, 209,\n",
       "        299, 200, 797, 730, 496, 146,  12, 392, 440, 185, 544, 251, 995,\n",
       "        322, 147, 721,   8, 731, 139, 820, 946,  40, 266, 900, 343, 231,\n",
       "        895, 547, 133,  34, 522, 119, 889, 466, 649, 309,  72,   7, 823,\n",
       "        416, 751, 588, 497, 371, 101,  33, 134, 330, 706, 966, 657, 498,\n",
       "        570, 418, 420, 242, 776, 556, 132, 613, 989, 111, 187, 364, 560,\n",
       "        902,  24, 177, 944, 727,  84, 742, 192, 181, 775, 681, 682, 777,\n",
       "        774, 771, 773, 772, 684, 685, 680, 686, 687, 770, 149, 150, 688,\n",
       "        683, 781, 145, 677, 137, 801, 667, 138, 799, 668, 669, 670, 671,\n",
       "        796, 795, 140, 793, 678, 672, 791, 790, 789, 673, 788, 143, 786,\n",
       "        674, 675, 144, 152, 783, 676, 792, 766, 714, 764, 704, 740, 705,\n",
       "        739, 738, 737, 736, 735, 734, 707, 733, 732, 708, 709, 729, 728,\n",
       "        726, 725, 724, 710, 723, 164, 169, 720, 719, 718, 165, 168, 715,\n",
       "        135, 765, 703, 163, 156, 690, 691, 692, 160, 713, 693, 758, 757,\n",
       "        756, 755, 754, 753, 752, 694, 695, 750, 749, 162, 696, 747, 176,\n",
       "        698, 699, 700, 746, 745, 701, 744, 702, 741, 828, 806,  18, 933,\n",
       "         17, 935,  16, 937, 938, 931, 939,  15, 942, 943, 945, 947, 948,\n",
       "        949, 940, 950,  19,  20,  27, 911, 912, 913, 914, 915, 916, 929,\n",
       "        917, 919, 920, 921, 922, 924, 926, 927,  26, 951, 952, 953, 979,\n",
       "        981, 982, 983, 984, 985,   4, 976, 987,   3, 991, 992, 993, 994,\n",
       "        996,   1, 988, 975, 974, 973, 954, 955, 957, 958, 959, 960, 961,\n",
       "        962, 963,  11,  10, 967, 968, 969, 970, 971, 972, 909, 805, 908,\n",
       "        906, 831, 834, 835, 836, 838, 839, 840, 830, 112, 844, 845, 846,\n",
       "        847, 848, 106, 105, 107, 851, 129, 827, 807, 808, 809, 810, 811,\n",
       "        812, 813, 666, 814, 818, 819, 821, 131, 824, 825, 826, 816, 852,\n",
       "        854, 856,  47, 882, 883, 884, 885, 887, 891, 880, 892, 896, 897,\n",
       "         31, 901, 903,  29, 905,  37, 879, 878, 877, 857, 858, 859, 861,\n",
       "        862, 863, 864, 865, 866, 867, 869, 871,  67, 873, 874,  61, 876,\n",
       "        907, 665, 290, 663, 405, 406, 407, 408, 409, 265, 411, 404, 412,\n",
       "        414, 415, 417, 419, 264, 422, 423, 413, 403, 402, 401, 382, 383,\n",
       "        384, 271, 386, 387, 388, 270, 390, 391, 269, 394, 396, 397, 398,\n",
       "        399, 400, 424, 425, 426, 427, 451, 452, 246, 454, 456, 457, 458,\n",
       "        459, 245, 461, 462, 463, 464, 465, 468, 469, 470, 450, 381, 449,\n",
       "        446, 428, 429, 430, 431, 432, 433, 434, 435, 436, 261, 438, 439,\n",
       "        441, 257, 256, 255, 445, 447, 380, 379, 378, 314, 315, 281, 317,\n",
       "        318, 280, 320, 321, 323, 324, 325, 326, 278, 328, 329, 331, 277,\n",
       "        313, 333, 312, 310, 291, 292, 293, 294, 295, 296, 297, 298, 300,\n",
       "        301, 288, 287, 304, 305, 306, 307, 284, 282, 471, 334, 336, 359,\n",
       "        360, 361, 362, 363, 365, 366, 367, 368, 369, 370, 372, 373, 374,\n",
       "        375, 376, 377, 358, 335, 357, 355, 337, 338, 339, 276, 341, 342,\n",
       "        344, 274, 346, 347, 348, 349, 272, 351, 352, 353, 354, 356, 472,\n",
       "        473, 240, 597, 598, 599, 600, 601, 602, 603, 604, 605, 606, 607,\n",
       "        608, 609, 610, 611, 612, 614, 596, 615, 595, 593, 573, 574, 575,\n",
       "        576, 577, 578, 579, 580, 581, 582, 197, 194, 587, 589, 590, 591,\n",
       "        592, 594, 571, 617, 619, 186, 289, 645, 646, 647, 648, 182, 651,\n",
       "        652, 653, 654, 655, 656, 658, 659, 660, 662, 642, 618, 641, 639,\n",
       "        620, 621, 622, 624, 625, 626, 627, 628, 629, 630, 631, 632, 633,\n",
       "        634, 635, 636, 637, 640, 180, 569, 567, 239, 500, 501, 502, 503,\n",
       "        504, 505, 506, 507, 508, 509, 510, 512, 514, 515, 516, 517, 495,\n",
       "        518, 494, 492, 475, 476, 477, 478, 479, 480, 481, 482, 483, 484,\n",
       "        485, 486, 487, 488, 489, 490, 491, 493, 210, 519, 521, 548, 224,\n",
       "        223, 214, 552, 553, 554, 555, 557, 558, 559, 561, 562, 213, 564,\n",
       "        565, 566, 546, 520, 545, 542, 523, 524, 525, 526, 527, 528, 529,\n",
       "        530, 531, 532, 533, 534, 235, 234, 537, 538, 233, 543, 999]],\n",
       "      dtype=int64)"
      ]
     },
     "execution_count": 36,
     "metadata": {},
     "output_type": "execute_result"
    }
   ],
   "source": [
    "(-cosine_similarity(kor_bow[0], kor_bow)).argsort()"
   ]
  },
  {
   "cell_type": "code",
   "execution_count": 37,
   "metadata": {},
   "outputs": [
    {
     "name": "stdout",
     "output_type": "stream",
     "text": [
      "[  0 252  39  42 220 116 123 584  93  54 273 395 638  85  89  99 444  69\n",
      " 616 232 153 832  83  77 623 108 798 803 202 760 888 340   9 104  56 930\n",
      "  50 784 385 467 247 222  45  46 841 203 689  87  14 249  78 221  91  75\n",
      "  76 327 978 762 842  51  95 100   5 226 572 259 833  64 155 881  48 148\n",
      "  35 782  65 540  58 934 837 711 794 421 448 853 585 189 302 875  74  80\n",
      "  66 443 664 899 113  98  96 761  81 126 843 697 115  62 936 319 250 850\n",
      "  36 230 956 303 166 932 286  79 886  38 198  92 158 151 216  63 110 219\n",
      " 236 243 196 195 998  53 894 311 283 102 172 204 154 114 190 225 267 128\n",
      " 175 964 184 253 644 308 923 389 124 117 188  32 541  52  28 258 551  30\n",
      " 410 893 910 870 171 142 460 717 990 241  88 285  43 849   2  13 941 212\n",
      " 965 118 248  23 586 583 898  94 925 815 167 804 141 437 829 244 535 918\n",
      " 928 228 174 817 279 550 986 539 316 254 260 549 855  68 183  86 122 679\n",
      " 173 802 787 109  70 748 716 860 208 763 767 778 211 127 262 743 872 345\n",
      " 997 868  90  57 722 785 643 712  22 536 191  21 227 904  60 268 120 350\n",
      " 199 275 977 980 217 206  71 103 215  97 207 563 201 218 769 263 568  49\n",
      " 179 661 511  55 768 650  44 136  59 130 800 453 759 513 332 822 393 442\n",
      " 474 499 170   6  82 178 125  73 159 205  41 161 157 238 193  25 237 779\n",
      " 455 229 780 890 121 209 299 200 797 730 496 146  12 392 440 185 544 251\n",
      " 995 322 147 721   8 731 139 820 946  40 266 900 343 231 895 547 133  34\n",
      " 522 119 889 466 649 309  72   7 823 416 751 588 497 371 101  33 134 330\n",
      " 706 966 657 498 570 418 420 242 776 556 132 613 989 111 187 364 560 902\n",
      "  24 177 944 727  84 742 192 181 775 681 682 777 774 771 773 772 684 685\n",
      " 680 686 687 770 149 150 688 683 781 145 677 137 801 667 138 799 668 669\n",
      " 670 671 796 795 140 793 678 672 791 790 789 673 788 143 786 674 675 144\n",
      " 152 783 676 792 766 714 764 704 740 705 739 738 737 736 735 734 707 733\n",
      " 732 708 709 729 728 726 725 724 710 723 164 169 720 719 718 165 168 715\n",
      " 135 765 703 163 156 690 691 692 160 713 693 758 757 756 755 754 753 752\n",
      " 694 695 750 749 162 696 747 176 698 699 700 746 745 701 744 702 741 828\n",
      " 806  18 933  17 935  16 937 938 931 939  15 942 943 945 947 948 949 940\n",
      " 950  19  20  27 911 912 913 914 915 916 929 917 919 920 921 922 924 926\n",
      " 927  26 951 952 953 979 981 982 983 984 985   4 976 987   3 991 992 993\n",
      " 994 996   1 988 975 974 973 954 955 957 958 959 960 961 962 963  11  10\n",
      " 967 968 969 970 971 972 909 805 908 906 831 834 835 836 838 839 840 830\n",
      " 112 844 845 846 847 848 106 105 107 851 129 827 807 808 809 810 811 812\n",
      " 813 666 814 818 819 821 131 824 825 826 816 852 854 856  47 882 883 884\n",
      " 885 887 891 880 892 896 897  31 901 903  29 905  37 879 878 877 857 858\n",
      " 859 861 862 863 864 865 866 867 869 871  67 873 874  61 876 907 665 290\n",
      " 663 405 406 407 408 409 265 411 404 412 414 415 417 419 264 422 423 413\n",
      " 403 402 401 382 383 384 271 386 387 388 270 390 391 269 394 396 397 398\n",
      " 399 400 424 425 426 427 451 452 246 454 456 457 458 459 245 461 462 463\n",
      " 464 465 468 469 470 450 381 449 446 428 429 430 431 432 433 434 435 436\n",
      " 261 438 439 441 257 256 255 445 447 380 379 378 314 315 281 317 318 280\n",
      " 320 321 323 324 325 326 278 328 329 331 277 313 333 312 310 291 292 293\n",
      " 294 295 296 297 298 300 301 288 287 304 305 306 307 284 282 471 334 336\n",
      " 359 360 361 362 363 365 366 367 368 369 370 372 373 374 375 376 377 358\n",
      " 335 357 355 337 338 339 276 341 342 344 274 346 347 348 349 272 351 352\n",
      " 353 354 356 472 473 240 597 598 599 600 601 602 603 604 605 606 607 608\n",
      " 609 610 611 612 614 596 615 595 593 573 574 575 576 577 578 579 580 581\n",
      " 582 197 194 587 589 590 591 592 594 571 617 619 186 289 645 646 647 648\n",
      " 182 651 652 653 654 655 656 658 659 660 662 642 618 641 639 620 621 622\n",
      " 624 625 626 627 628 629 630 631 632 633 634 635 636 637 640 180 569 567\n",
      " 239 500 501 502 503 504 505 506 507 508 509 510 512 514 515 516 517 495\n",
      " 518 494 492 475 476 477 478 479 480 481 482 483 484 485 486 487 488 489\n",
      " 490 491 493 210 519 521 548 224 223 214 552 553 554 555 557 558 559 561\n",
      " 562 213 564 565 566 546 520 545 542 523 524 525 526 527 528 529 530 531\n",
      " 532 533 534 235 234 537 538 233 543 999]\n"
     ]
    }
   ],
   "source": [
    "idx = (-cosine_similarity(kor_bow[0], kor_bow)[0]).argsort()\n",
    "print(idx)"
   ]
  },
  {
   "cell_type": "code",
   "execution_count": 38,
   "metadata": {},
   "outputs": [],
   "source": [
    "def find_most_similar_news(index, bow, corpus):\n",
    "    idx = (-cosine_similarity(bow[index], bow)[0]).argsort()[1]\n",
    "    return corpus[idx]"
   ]
  },
  {
   "cell_type": "code",
   "execution_count": 42,
   "metadata": {},
   "outputs": [],
   "source": [
    "idx = 50"
   ]
  },
  {
   "cell_type": "code",
   "execution_count": 43,
   "metadata": {},
   "outputs": [
    {
     "data": {
      "text/plain": [
       "'예외적 상황에 있어서 특허기간 조정은 PTO의 폭넓은 재량에 달려있다고 판시한 사안'"
      ]
     },
     "execution_count": 43,
     "metadata": {},
     "output_type": "execute_result"
    }
   ],
   "source": [
    "real[idx]"
   ]
  },
  {
   "cell_type": "code",
   "execution_count": 44,
   "metadata": {},
   "outputs": [
    {
     "data": {
      "text/plain": [
       "'소프트웨어 특허는 기능식청구항에서 알고리즘을 명시하여야 한다고 판시한 사안'"
      ]
     },
     "execution_count": 44,
     "metadata": {},
     "output_type": "execute_result"
    }
   ],
   "source": [
    "find_most_similar_news(idx, kor_bow, real)"
   ]
  },
  {
   "cell_type": "code",
   "execution_count": null,
   "metadata": {},
   "outputs": [],
   "source": []
  },
  {
   "cell_type": "code",
   "execution_count": 45,
   "metadata": {},
   "outputs": [],
   "source": [
    "transformer = TfidfTransformer()\n",
    "tfidf = transformer.fit_transform(kor_bow.toarray())"
   ]
  },
  {
   "cell_type": "code",
   "execution_count": 46,
   "metadata": {},
   "outputs": [],
   "source": [
    "def find_most_similar_news_idf(index, tfidf, corpus):\n",
    "    idx = (-cosine_similarity(tfidf[index], tfidf)[0]).argsort()[1]\n",
    "    return corpus[idx]"
   ]
  },
  {
   "cell_type": "code",
   "execution_count": 48,
   "metadata": {},
   "outputs": [
    {
     "data": {
      "text/plain": [
       "'항소기간 연장 청구는 용인될 수 있는 해태 또는 상당한 이유를 입증할 수 있어야 인정된다고 판시한 사안'"
      ]
     },
     "execution_count": 48,
     "metadata": {},
     "output_type": "execute_result"
    }
   ],
   "source": [
    "find_most_similar_news_idf(idx, tfidf, real)"
   ]
  },
  {
   "cell_type": "code",
   "execution_count": 49,
   "metadata": {},
   "outputs": [
    {
     "name": "stderr",
     "output_type": "stream",
     "text": [
      "C:\\Users\\AAA\\anaconda3\\lib\\site-packages\\sklearn\\utils\\deprecation.py:87: FutureWarning: Function sparse_random_matrix is deprecated; gaussian_random_matrix is deprecated in 0.22 and will be removed in version 0.24.\n",
      "  warnings.warn(msg, category=FutureWarning)\n"
     ]
    },
    {
     "data": {
      "text/plain": [
       "TruncatedSVD(algorithm='randomized', n_components=5, n_iter=7, random_state=42,\n",
       "             tol=0.0)"
      ]
     },
     "execution_count": 49,
     "metadata": {},
     "output_type": "execute_result"
    }
   ],
   "source": [
    "from sklearn.decomposition import TruncatedSVD\n",
    "from sklearn.random_projection import sparse_random_matrix\n",
    "X = sparse_random_matrix(100, 100, density=0.01, random_state=42)\n",
    "svd = TruncatedSVD(n_components=5, n_iter=7, random_state=42)\n",
    "svd.fit(X)  \n",
    "TruncatedSVD(algorithm='randomized', n_components=5, n_iter=7,\n",
    "        random_state=42, tol=0.0)"
   ]
  },
  {
   "cell_type": "code",
   "execution_count": 50,
   "metadata": {},
   "outputs": [
    {
     "name": "stdout",
     "output_type": "stream",
     "text": [
      "[0.06063696 0.05842599 0.04970872 0.04344233 0.03723615]\n"
     ]
    }
   ],
   "source": [
    "print(svd.explained_variance_ratio_)  "
   ]
  },
  {
   "cell_type": "code",
   "execution_count": 51,
   "metadata": {},
   "outputs": [
    {
     "name": "stdout",
     "output_type": "stream",
     "text": [
      "0.24945013828489504\n"
     ]
    }
   ],
   "source": [
    "print(svd.explained_variance_ratio_.sum())  "
   ]
  },
  {
   "cell_type": "code",
   "execution_count": 52,
   "metadata": {},
   "outputs": [
    {
     "name": "stdout",
     "output_type": "stream",
     "text": [
      "[2.58418571 2.52453902 2.32011672 2.17531753 2.04439905]\n"
     ]
    }
   ],
   "source": [
    "print(svd.singular_values_)  "
   ]
  },
  {
   "cell_type": "code",
   "execution_count": null,
   "metadata": {},
   "outputs": [],
   "source": []
  },
  {
   "cell_type": "code",
   "execution_count": 53,
   "metadata": {},
   "outputs": [
    {
     "name": "stderr",
     "output_type": "stream",
     "text": [
      "unable to import 'smart_open.gcs', disabling that module\n"
     ]
    }
   ],
   "source": [
    "from gensim.test.utils import common_dictionary, common_corpus\n",
    "from gensim.models import LsiModel\n",
    "\n",
    "model = LsiModel(common_corpus, id2word=common_dictionary)\n",
    "vectorized_corpus = model[common_corpus] "
   ]
  },
  {
   "cell_type": "code",
   "execution_count": 54,
   "metadata": {},
   "outputs": [
    {
     "data": {
      "text/plain": [
       "[[(0, 1), (1, 1), (2, 1)],\n",
       " [(0, 1), (3, 1), (4, 1), (5, 1), (6, 1), (7, 1)],\n",
       " [(2, 1), (5, 1), (7, 1), (8, 1)],\n",
       " [(1, 1), (5, 2), (8, 1)],\n",
       " [(3, 1), (6, 1), (7, 1)],\n",
       " [(9, 1)],\n",
       " [(9, 1), (10, 1)],\n",
       " [(9, 1), (10, 1), (11, 1)],\n",
       " [(4, 1), (10, 1), (11, 1)]]"
      ]
     },
     "execution_count": 54,
     "metadata": {},
     "output_type": "execute_result"
    }
   ],
   "source": [
    "vectorized_corpus.corpus"
   ]
  },
  {
   "cell_type": "code",
   "execution_count": null,
   "metadata": {},
   "outputs": [],
   "source": []
  },
  {
   "cell_type": "code",
   "execution_count": null,
   "metadata": {},
   "outputs": [],
   "source": [
    "영화리뷰에 대한 데이터를 가지고 있어 이를 통해 분석해보려했으나, 토큰화과정에서 오류가 발생했다.\n",
    "특허관련 판결문에 요약된 제목으로 시도하였지만 문장이 짧았기에 부족했던 실습이었다. 뉴스처럼 긴 문장으로 실습해봐야겠다는 생각이 들었다. "
   ]
  }
 ],
 "metadata": {
  "kernelspec": {
   "display_name": "Python 3",
   "language": "python",
   "name": "python3"
  },
  "language_info": {
   "codemirror_mode": {
    "name": "ipython",
    "version": 3
   },
   "file_extension": ".py",
   "mimetype": "text/x-python",
   "name": "python",
   "nbconvert_exporter": "python",
   "pygments_lexer": "ipython3",
   "version": "3.7.6"
  }
 },
 "nbformat": 4,
 "nbformat_minor": 4
}
